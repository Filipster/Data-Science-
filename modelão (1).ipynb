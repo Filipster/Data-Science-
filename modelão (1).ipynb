{
  "nbformat": 4,
  "nbformat_minor": 0,
  "metadata": {
    "colab": {
      "name": "modelão.ipynb",
      "provenance": [],
      "toc_visible": true
    },
    "kernelspec": {
      "display_name": "Python 3",
      "language": "python",
      "name": "python3"
    },
    "language_info": {
      "codemirror_mode": {
        "name": "ipython",
        "version": 3
      },
      "file_extension": ".py",
      "mimetype": "text/x-python",
      "name": "python",
      "nbconvert_exporter": "python",
      "pygments_lexer": "ipython3",
      "version": "3.7.4"
    }
  },
  "cells": [
    {
      "cell_type": "code",
      "metadata": {
        "id": "qsPQKQIiErKH"
      },
      "source": [
        "import os\n",
        "import pandas as pd\n",
        "import seaborn as sns\n",
        "import matplotlib.pyplot as plt\n",
        "from sklearn.model_selection import train_test_split\n",
        "from sklearn.preprocessing import OrdinalEncoder\n",
        "\n",
        "from sklearn.ensemble import RandomForestClassifier\n",
        "\n",
        "from sklearn.metrics import classification_report"
      ],
      "execution_count": null,
      "outputs": []
    },
    {
      "cell_type": "code",
      "metadata": {
        "id": "wn11Llq7Hh-C",
        "colab": {
          "base_uri": "https://localhost:8080/",
          "height": 35
        },
        "outputId": "0cd8424e-206d-4b4c-91d6-6bdf333bb734"
      },
      "source": [
        "path = os.getcwd()\n",
        "path"
      ],
      "execution_count": null,
      "outputs": [
        {
          "output_type": "execute_result",
          "data": {
            "application/vnd.google.colaboratory.intrinsic+json": {
              "type": "string"
            },
            "text/plain": [
              "'/content'"
            ]
          },
          "metadata": {
            "tags": []
          },
          "execution_count": 15
        }
      ]
    },
    {
      "cell_type": "code",
      "metadata": {
        "id": "PeIBbfRNH9jQ",
        "colab": {
          "base_uri": "https://localhost:8080/",
          "height": 564
        },
        "outputId": "0c527c8f-e433-4a6c-d56e-795611de3bb9"
      },
      "source": [
        "df = pd.read_csv ('/content/PRAS_limpo_analise_v1.csv', sep=';', encoding='iso8859', decimal=',')\n",
        "df.head()"
      ],
      "execution_count": null,
      "outputs": [
        {
          "output_type": "execute_result",
          "data": {
            "text/html": [
              "<div>\n",
              "<style scoped>\n",
              "    .dataframe tbody tr th:only-of-type {\n",
              "        vertical-align: middle;\n",
              "    }\n",
              "\n",
              "    .dataframe tbody tr th {\n",
              "        vertical-align: top;\n",
              "    }\n",
              "\n",
              "    .dataframe thead th {\n",
              "        text-align: right;\n",
              "    }\n",
              "</style>\n",
              "<table border=\"1\" class=\"dataframe\">\n",
              "  <thead>\n",
              "    <tr style=\"text-align: right;\">\n",
              "      <th></th>\n",
              "      <th>ENT_NOM</th>\n",
              "      <th>ENT_DES_TIP_EST</th>\n",
              "      <th>ENT_DES_CANT</th>\n",
              "      <th>ENT_DES_PARR</th>\n",
              "      <th>ENT_DES_TIP_PARR</th>\n",
              "      <th>ENT_NIV</th>\n",
              "      <th>PROF_NOMBRES</th>\n",
              "      <th>PROF_FEC_NAC</th>\n",
              "      <th>PROF_SEXO</th>\n",
              "      <th>PROF_ESP_ATE</th>\n",
              "      <th>PCTE_NOMBRES</th>\n",
              "      <th>PCTE_SEXO</th>\n",
              "      <th>PCTE_ORI_SEX</th>\n",
              "      <th>PCTE_IDE_GEN</th>\n",
              "      <th>PCTE_FEC_NAC</th>\n",
              "      <th>PCTE_NACIONALIDAD</th>\n",
              "      <th>PCTE_AUTID_ETN</th>\n",
              "      <th>PCTE_NAC_ETN</th>\n",
              "      <th>PCTE_PUEBLO</th>\n",
              "      <th>PCTE_SEG</th>\n",
              "      <th>PCTE_DES_CANT</th>\n",
              "      <th>PCTE_DES_PARR</th>\n",
              "      <th>PCTE_PESO</th>\n",
              "      <th>PCTE_TALLA</th>\n",
              "      <th>ajuste_ALTURA</th>\n",
              "      <th>IMC</th>\n",
              "      <th>IMC_Base</th>\n",
              "      <th>PCTE_ULT_PESO</th>\n",
              "      <th>PCTE_ULT_TALLA</th>\n",
              "      <th>PCTE_ULT_IMC</th>\n",
              "      <th>PCTE_ULT_PERIM_CEFALICO</th>\n",
              "      <th>PCTE_ULT_VAL_HEMOGLOBINA</th>\n",
              "      <th>PCTE_ULT_VAL_HEMO_CORREGIDO</th>\n",
              "      <th>PCTE_IND_ANEMIA_HEMOGLOBINA</th>\n",
              "      <th>PCTE_ULT_TALLA_EDAD_Z</th>\n",
              "      <th>PCTE_CAT_TALLA_EDAD_Z</th>\n",
              "      <th>PCTE_ULT_PESO_EDAD_Z</th>\n",
              "      <th>PCTE_CAT_PESO_EDAD_Z</th>\n",
              "      <th>PCTE_ULT_IMC_EDAD_Z</th>\n",
              "      <th>PCTE_CAT_IMC_EDAD_Z</th>\n",
              "      <th>PCTE_ULT_PESO_LONGTALLA_Z</th>\n",
              "      <th>PCTE_CAT_PESO_LONGTALLA_Z</th>\n",
              "      <th>DOEL_NUM_ATEN_CONTR_PRENATAL</th>\n",
              "      <th>DOEL_PRES_HIE_ACIDFOLIC_MUJER</th>\n",
              "      <th>DOEL_VIH</th>\n",
              "      <th>SIVANVAC_DLU24H_RLM_0A5</th>\n",
              "      <th>SIVANVAC_DLU24H_CON_ASSS_6A8</th>\n",
              "      <th>SIVAN_HRHIERRO_MULVIT_MINPOLVO</th>\n",
              "      <th>SIVAN_HR_VITAMINA_A</th>\n",
              "      <th>SIVAN_HR_EXCLUS_LMAT_DESDENAC</th>\n",
              "      <th>SIVANVAC_ROT_1RA_DOS</th>\n",
              "      <th>SIVANVAC_ROT_2DA_DOS</th>\n",
              "      <th>SIVANVAC_NEU_1RA_DOS</th>\n",
              "      <th>SIVANVAC_NEU_2DA_DOS</th>\n",
              "      <th>SIVANVAC_NEU_3RA_DOS</th>\n",
              "      <th>ATEMED_FEC_INI</th>\n",
              "      <th>ATEMED_CIE10</th>\n",
              "      <th>ATEMED_DES_CIE10</th>\n",
              "      <th>ATEMED_NOT_OBL_DIAG</th>\n",
              "      <th>ATEMED_TIP_DIAG</th>\n",
              "      <th>ATEMED_CRON_DIAG</th>\n",
              "      <th>ATEMED_CON_DIAG</th>\n",
              "      <th>ATEMED_TIP_ATE</th>\n",
              "      <th>ATEMED_ID_LUG_ATE</th>\n",
              "      <th>ATEMED_LUG_ATE</th>\n",
              "      <th>PCTE_ULT_IMC_CATEGORIA</th>\n",
              "      <th>PCTE_GRP_PRI_Embarazadas</th>\n",
              "      <th>PCTE_GRP_PRI_Discapacidad</th>\n",
              "      <th>PCTE_GRP_PRI_Assedio_Sexual_Trabajo</th>\n",
              "      <th>PCTE_GRP_PRI_Violencia_Psicologica</th>\n",
              "      <th>PCTE_GRP_PRI_Violencia_Sexual</th>\n",
              "      <th>PCTE_GRP_PRI_Violencia_Fisica</th>\n",
              "      <th>PCTE_GRP_PRI_Maltrato_Infantil</th>\n",
              "      <th>PCTE_GRP_PRI_Enfermidades_Catastroficas</th>\n",
              "      <th>PCTE_GRP_PRI_Desastres_Naturales</th>\n",
              "      <th>PCTE_GRP_PRI_Desastres_Antropogenicos</th>\n",
              "      <th>PCTE_GRP_PRI_Penitenciarios</th>\n",
              "      <th>PCTE_GRP_PRI_QTD</th>\n",
              "    </tr>\n",
              "  </thead>\n",
              "  <tbody>\n",
              "    <tr>\n",
              "      <th>0</th>\n",
              "      <td>SAN CARLOS DE LAS MINAS</td>\n",
              "      <td>CENTRO DE SALUD TIPO A</td>\n",
              "      <td>ZAMORA</td>\n",
              "      <td>SAN CARLOS DE LAS MINAS</td>\n",
              "      <td>Rural</td>\n",
              "      <td>NIVEL 1</td>\n",
              "      <td>ELISA MARIBEL</td>\n",
              "      <td>02/11/1978</td>\n",
              "      <td>Mujer</td>\n",
              "      <td>Medicina Familiar Y Comunitaria</td>\n",
              "      <td>LUZ MARIA</td>\n",
              "      <td>Mujer</td>\n",
              "      <td>Heterosexual</td>\n",
              "      <td>Femenino</td>\n",
              "      <td>01/08/1939</td>\n",
              "      <td>ECUATORIANO</td>\n",
              "      <td>Mestizo</td>\n",
              "      <td>No info</td>\n",
              "      <td>No info</td>\n",
              "      <td>No aporta</td>\n",
              "      <td>ZAMORA</td>\n",
              "      <td>SAN CARLOS DE LAS MINAS</td>\n",
              "      <td>0.0</td>\n",
              "      <td>147.0</td>\n",
              "      <td>1.47</td>\n",
              "      <td>0.0</td>\n",
              "      <td>Abaixo do Peso</td>\n",
              "      <td>0.0</td>\n",
              "      <td>147.0</td>\n",
              "      <td>No info</td>\n",
              "      <td>No info</td>\n",
              "      <td>No info</td>\n",
              "      <td>No info</td>\n",
              "      <td>No info</td>\n",
              "      <td>No info</td>\n",
              "      <td>No info</td>\n",
              "      <td>No info</td>\n",
              "      <td>No info</td>\n",
              "      <td>No info</td>\n",
              "      <td>No info</td>\n",
              "      <td>No info</td>\n",
              "      <td>No info</td>\n",
              "      <td>No info</td>\n",
              "      <td>NO</td>\n",
              "      <td>No info</td>\n",
              "      <td>No info</td>\n",
              "      <td>No info</td>\n",
              "      <td>No info</td>\n",
              "      <td>No info</td>\n",
              "      <td>No info</td>\n",
              "      <td>No info</td>\n",
              "      <td>No info</td>\n",
              "      <td>No info</td>\n",
              "      <td>No info</td>\n",
              "      <td>No info</td>\n",
              "      <td>21/11/2019</td>\n",
              "      <td>Z736</td>\n",
              "      <td>PROBLEMAS RELACIONADOS CON LA LIMITACION DE LA...</td>\n",
              "      <td>No info</td>\n",
              "      <td>Prevención</td>\n",
              "      <td>Subsecuente</td>\n",
              "      <td>No info</td>\n",
              "      <td>715</td>\n",
              "      <td>Domicilio</td>\n",
              "      <td>No info</td>\n",
              "      <td>No info</td>\n",
              "      <td>0</td>\n",
              "      <td>1</td>\n",
              "      <td>0</td>\n",
              "      <td>0</td>\n",
              "      <td>0</td>\n",
              "      <td>0</td>\n",
              "      <td>0</td>\n",
              "      <td>0</td>\n",
              "      <td>0</td>\n",
              "      <td>0</td>\n",
              "      <td>0</td>\n",
              "      <td>1.0</td>\n",
              "    </tr>\n",
              "    <tr>\n",
              "      <th>1</th>\n",
              "      <td>SAN CARLOS DE LAS MINAS</td>\n",
              "      <td>CENTRO DE SALUD TIPO A</td>\n",
              "      <td>ZAMORA</td>\n",
              "      <td>SAN CARLOS DE LAS MINAS</td>\n",
              "      <td>Rural</td>\n",
              "      <td>NIVEL 1</td>\n",
              "      <td>ELISA MARIBEL</td>\n",
              "      <td>02/11/1978</td>\n",
              "      <td>Mujer</td>\n",
              "      <td>Medicina Familiar Y Comunitaria</td>\n",
              "      <td>VICENTE DEMECIO</td>\n",
              "      <td>Hombre</td>\n",
              "      <td>Heterosexual</td>\n",
              "      <td>Masculino</td>\n",
              "      <td>06/05/1962</td>\n",
              "      <td>ECUATORIANO</td>\n",
              "      <td>Mestizo</td>\n",
              "      <td>No info</td>\n",
              "      <td>No info</td>\n",
              "      <td>No aporta</td>\n",
              "      <td>ZAMORA</td>\n",
              "      <td>SAN CARLOS DE LAS MINAS</td>\n",
              "      <td>0.0</td>\n",
              "      <td>165.0</td>\n",
              "      <td>1.65</td>\n",
              "      <td>0.0</td>\n",
              "      <td>Abaixo do Peso</td>\n",
              "      <td>0.0</td>\n",
              "      <td>165.0</td>\n",
              "      <td>No info</td>\n",
              "      <td>No info</td>\n",
              "      <td>No info</td>\n",
              "      <td>No info</td>\n",
              "      <td>No info</td>\n",
              "      <td>No info</td>\n",
              "      <td>No info</td>\n",
              "      <td>No info</td>\n",
              "      <td>No info</td>\n",
              "      <td>No info</td>\n",
              "      <td>No info</td>\n",
              "      <td>No info</td>\n",
              "      <td>No info</td>\n",
              "      <td>No info</td>\n",
              "      <td>No info</td>\n",
              "      <td>No info</td>\n",
              "      <td>No info</td>\n",
              "      <td>No info</td>\n",
              "      <td>No info</td>\n",
              "      <td>No info</td>\n",
              "      <td>No info</td>\n",
              "      <td>No info</td>\n",
              "      <td>No info</td>\n",
              "      <td>No info</td>\n",
              "      <td>No info</td>\n",
              "      <td>No info</td>\n",
              "      <td>21/11/2019</td>\n",
              "      <td>Z736</td>\n",
              "      <td>PROBLEMAS RELACIONADOS CON LA LIMITACION DE LA...</td>\n",
              "      <td>No info</td>\n",
              "      <td>Prevención</td>\n",
              "      <td>Subsecuente</td>\n",
              "      <td>No info</td>\n",
              "      <td>715</td>\n",
              "      <td>Domicilio</td>\n",
              "      <td>No info</td>\n",
              "      <td>No info</td>\n",
              "      <td>0</td>\n",
              "      <td>1</td>\n",
              "      <td>0</td>\n",
              "      <td>0</td>\n",
              "      <td>0</td>\n",
              "      <td>0</td>\n",
              "      <td>0</td>\n",
              "      <td>0</td>\n",
              "      <td>0</td>\n",
              "      <td>0</td>\n",
              "      <td>0</td>\n",
              "      <td>1.0</td>\n",
              "    </tr>\n",
              "    <tr>\n",
              "      <th>2</th>\n",
              "      <td>28 DE MAYO (YACUAMBI)</td>\n",
              "      <td>CENTRO DE SALUD TIPO A</td>\n",
              "      <td>YACUAMBI</td>\n",
              "      <td>28 DE MAYO (SAN JOSE DE YACUAMBI)</td>\n",
              "      <td>Urbano</td>\n",
              "      <td>NIVEL 1</td>\n",
              "      <td>JUAN CARLOS</td>\n",
              "      <td>01/08/1962</td>\n",
              "      <td>Hombre</td>\n",
              "      <td>Medicina General</td>\n",
              "      <td>MANUEL ANTONIO</td>\n",
              "      <td>Hombre</td>\n",
              "      <td>Heterosexual</td>\n",
              "      <td>No info</td>\n",
              "      <td>09/12/1963</td>\n",
              "      <td>ECUATORIANO</td>\n",
              "      <td>Indígena</td>\n",
              "      <td>Kichwa</td>\n",
              "      <td>Saraguro</td>\n",
              "      <td>IESS, Afiliado seguro Campesino</td>\n",
              "      <td>YACUAMBI</td>\n",
              "      <td>28 DE MAYO (SAN JOSE DE YACUAMBI)</td>\n",
              "      <td>0.0</td>\n",
              "      <td>160.0</td>\n",
              "      <td>1.60</td>\n",
              "      <td>0.0</td>\n",
              "      <td>Abaixo do Peso</td>\n",
              "      <td>0.0</td>\n",
              "      <td>160.0</td>\n",
              "      <td>No info</td>\n",
              "      <td>No info</td>\n",
              "      <td>No info</td>\n",
              "      <td>No info</td>\n",
              "      <td>No info</td>\n",
              "      <td>No info</td>\n",
              "      <td>No info</td>\n",
              "      <td>No info</td>\n",
              "      <td>No info</td>\n",
              "      <td>No info</td>\n",
              "      <td>No info</td>\n",
              "      <td>No info</td>\n",
              "      <td>No info</td>\n",
              "      <td>No info</td>\n",
              "      <td>No info</td>\n",
              "      <td>No info</td>\n",
              "      <td>No info</td>\n",
              "      <td>No info</td>\n",
              "      <td>No info</td>\n",
              "      <td>No info</td>\n",
              "      <td>No info</td>\n",
              "      <td>No info</td>\n",
              "      <td>No info</td>\n",
              "      <td>No info</td>\n",
              "      <td>No info</td>\n",
              "      <td>No info</td>\n",
              "      <td>18/09/2019</td>\n",
              "      <td>Z736</td>\n",
              "      <td>PROBLEMAS RELACIONADOS CON LA LIMITACION DE LA...</td>\n",
              "      <td>No info</td>\n",
              "      <td>Prevención</td>\n",
              "      <td>Subsecuente</td>\n",
              "      <td>No info</td>\n",
              "      <td>712</td>\n",
              "      <td>Establecimiento de Salud</td>\n",
              "      <td>No info</td>\n",
              "      <td>No info</td>\n",
              "      <td>0</td>\n",
              "      <td>1</td>\n",
              "      <td>0</td>\n",
              "      <td>0</td>\n",
              "      <td>0</td>\n",
              "      <td>0</td>\n",
              "      <td>0</td>\n",
              "      <td>0</td>\n",
              "      <td>0</td>\n",
              "      <td>0</td>\n",
              "      <td>0</td>\n",
              "      <td>1.0</td>\n",
              "    </tr>\n",
              "    <tr>\n",
              "      <th>3</th>\n",
              "      <td>CUMBARATZA</td>\n",
              "      <td>CENTRO DE SALUD TIPO A</td>\n",
              "      <td>ZAMORA</td>\n",
              "      <td>CUMBARATZA</td>\n",
              "      <td>Rural</td>\n",
              "      <td>NIVEL 1</td>\n",
              "      <td>ELISA MARIBEL</td>\n",
              "      <td>02/11/1978</td>\n",
              "      <td>Mujer</td>\n",
              "      <td>Medicina Familiar Y Comunitaria</td>\n",
              "      <td>ANGEL POLIVIO</td>\n",
              "      <td>Hombre</td>\n",
              "      <td>Heterosexual</td>\n",
              "      <td>No info</td>\n",
              "      <td>27/12/1966</td>\n",
              "      <td>ECUATORIANO</td>\n",
              "      <td>Mestizo</td>\n",
              "      <td>No info</td>\n",
              "      <td>No info</td>\n",
              "      <td>IESS, Afiliado seguro Campesino</td>\n",
              "      <td>ZAMORA</td>\n",
              "      <td>CUMBARATZA</td>\n",
              "      <td>0.0</td>\n",
              "      <td>160.0</td>\n",
              "      <td>1.60</td>\n",
              "      <td>0.0</td>\n",
              "      <td>Abaixo do Peso</td>\n",
              "      <td>0.0</td>\n",
              "      <td>160.0</td>\n",
              "      <td>No info</td>\n",
              "      <td>No info</td>\n",
              "      <td>No info</td>\n",
              "      <td>No info</td>\n",
              "      <td>No info</td>\n",
              "      <td>No info</td>\n",
              "      <td>No info</td>\n",
              "      <td>No info</td>\n",
              "      <td>No info</td>\n",
              "      <td>No info</td>\n",
              "      <td>No info</td>\n",
              "      <td>No info</td>\n",
              "      <td>No info</td>\n",
              "      <td>No info</td>\n",
              "      <td>No info</td>\n",
              "      <td>No info</td>\n",
              "      <td>No info</td>\n",
              "      <td>No info</td>\n",
              "      <td>No info</td>\n",
              "      <td>No info</td>\n",
              "      <td>No info</td>\n",
              "      <td>No info</td>\n",
              "      <td>No info</td>\n",
              "      <td>No info</td>\n",
              "      <td>No info</td>\n",
              "      <td>No info</td>\n",
              "      <td>21/11/2019</td>\n",
              "      <td>Z736</td>\n",
              "      <td>PROBLEMAS RELACIONADOS CON LA LIMITACION DE LA...</td>\n",
              "      <td>No info</td>\n",
              "      <td>Prevención</td>\n",
              "      <td>Subsecuente</td>\n",
              "      <td>No info</td>\n",
              "      <td>715</td>\n",
              "      <td>Domicilio</td>\n",
              "      <td>No info</td>\n",
              "      <td>No info</td>\n",
              "      <td>0</td>\n",
              "      <td>1</td>\n",
              "      <td>0</td>\n",
              "      <td>0</td>\n",
              "      <td>0</td>\n",
              "      <td>0</td>\n",
              "      <td>0</td>\n",
              "      <td>0</td>\n",
              "      <td>0</td>\n",
              "      <td>0</td>\n",
              "      <td>0</td>\n",
              "      <td>1.0</td>\n",
              "    </tr>\n",
              "    <tr>\n",
              "      <th>4</th>\n",
              "      <td>CUMBARATZA</td>\n",
              "      <td>CENTRO DE SALUD TIPO A</td>\n",
              "      <td>ZAMORA</td>\n",
              "      <td>CUMBARATZA</td>\n",
              "      <td>Rural</td>\n",
              "      <td>NIVEL 1</td>\n",
              "      <td>ELISA MARIBEL</td>\n",
              "      <td>02/11/1978</td>\n",
              "      <td>Mujer</td>\n",
              "      <td>Medicina Familiar Y Comunitaria</td>\n",
              "      <td>ANGEL POLIVIO</td>\n",
              "      <td>Hombre</td>\n",
              "      <td>Heterosexual</td>\n",
              "      <td>No info</td>\n",
              "      <td>02/07/1981</td>\n",
              "      <td>ECUATORIANO</td>\n",
              "      <td>Mestizo</td>\n",
              "      <td>No info</td>\n",
              "      <td>No info</td>\n",
              "      <td>No aporta</td>\n",
              "      <td>ZAMORA</td>\n",
              "      <td>CUMBARATZA</td>\n",
              "      <td>0.0</td>\n",
              "      <td>159.0</td>\n",
              "      <td>1.59</td>\n",
              "      <td>0.0</td>\n",
              "      <td>Abaixo do Peso</td>\n",
              "      <td>0.0</td>\n",
              "      <td>159.0</td>\n",
              "      <td>No info</td>\n",
              "      <td>No info</td>\n",
              "      <td>No info</td>\n",
              "      <td>No info</td>\n",
              "      <td>No info</td>\n",
              "      <td>No info</td>\n",
              "      <td>No info</td>\n",
              "      <td>No info</td>\n",
              "      <td>No info</td>\n",
              "      <td>No info</td>\n",
              "      <td>No info</td>\n",
              "      <td>No info</td>\n",
              "      <td>No info</td>\n",
              "      <td>No info</td>\n",
              "      <td>No info</td>\n",
              "      <td>No info</td>\n",
              "      <td>No info</td>\n",
              "      <td>No info</td>\n",
              "      <td>No info</td>\n",
              "      <td>No info</td>\n",
              "      <td>No info</td>\n",
              "      <td>No info</td>\n",
              "      <td>No info</td>\n",
              "      <td>No info</td>\n",
              "      <td>No info</td>\n",
              "      <td>No info</td>\n",
              "      <td>21/11/2019</td>\n",
              "      <td>Z736</td>\n",
              "      <td>PROBLEMAS RELACIONADOS CON LA LIMITACION DE LA...</td>\n",
              "      <td>No info</td>\n",
              "      <td>Prevención</td>\n",
              "      <td>Subsecuente</td>\n",
              "      <td>No info</td>\n",
              "      <td>715</td>\n",
              "      <td>Domicilio</td>\n",
              "      <td>No info</td>\n",
              "      <td>No info</td>\n",
              "      <td>0</td>\n",
              "      <td>1</td>\n",
              "      <td>0</td>\n",
              "      <td>0</td>\n",
              "      <td>0</td>\n",
              "      <td>0</td>\n",
              "      <td>0</td>\n",
              "      <td>0</td>\n",
              "      <td>0</td>\n",
              "      <td>0</td>\n",
              "      <td>0</td>\n",
              "      <td>1.0</td>\n",
              "    </tr>\n",
              "  </tbody>\n",
              "</table>\n",
              "</div>"
            ],
            "text/plain": [
              "                   ENT_NOM  ... PCTE_GRP_PRI_QTD\n",
              "0  SAN CARLOS DE LAS MINAS  ...              1.0\n",
              "1  SAN CARLOS DE LAS MINAS  ...              1.0\n",
              "2    28 DE MAYO (YACUAMBI)  ...              1.0\n",
              "3               CUMBARATZA  ...              1.0\n",
              "4               CUMBARATZA  ...              1.0\n",
              "\n",
              "[5 rows x 78 columns]"
            ]
          },
          "metadata": {
            "tags": []
          },
          "execution_count": 16
        }
      ]
    },
    {
      "cell_type": "markdown",
      "metadata": {
        "id": "53NuxPTUfVuv"
      },
      "source": [
        "\n",
        "\n",
        "```\n",
        "# Isto está formatado como código\n",
        "```\n",
        "\n",
        "# Informações dos dados\n",
        "\n"
      ]
    },
    {
      "cell_type": "code",
      "metadata": {
        "id": "SzLGGxx4fVuy",
        "colab": {
          "base_uri": "https://localhost:8080/"
        },
        "outputId": "e89dae72-020a-4f42-88ce-69a039e958a8"
      },
      "source": [
        "print('{} dimensões da base'.format(df.shape))\n",
        "print('{} total de colunas'.format(len(df.columns)))\n",
        "print('{} total de colunas categoricas'.format(len(df.select_dtypes('object').columns)))"
      ],
      "execution_count": null,
      "outputs": [
        {
          "output_type": "stream",
          "text": [
            "(20930, 78) dimensões da base\n",
            "78 total de colunas\n",
            "63 total de colunas categoricas\n"
          ],
          "name": "stdout"
        }
      ]
    },
    {
      "cell_type": "markdown",
      "metadata": {
        "id": "xOrv77offVu_"
      },
      "source": [
        " ##***Conversão***\n",
        "\n",
        "\n",
        "1.   Item da lista\n",
        "2.   Item da lista\n",
        "\n",
        "\n",
        "* Converter coluna IMC para target (>= 30 'obeso')\n",
        "* Descartar 'IMC_Base' e as medidas de altura e peso, pois, tratam-se de variáveis viciadas (IMC é calculado a partir de peso e altura, portanto, o modelo tende a apenas usar as 2 para gerar o target)\n",
        "* Descartar dados sem relevância de modelo"
      ]
    },
    {
      "cell_type": "code",
      "metadata": {
        "id": "nW2wkLfmfVvA"
      },
      "source": [
        "df['target'] = df.IMC >= 30\n",
        "df['target'] = df.target.astype('int')"
      ],
      "execution_count": null,
      "outputs": []
    },
    {
      "cell_type": "code",
      "metadata": {
        "id": "X1Wh6iDTfVvK",
        "colab": {
          "base_uri": "https://localhost:8080/",
          "height": 564
        },
        "outputId": "3a7ac958-f89b-436b-8d0d-20e21a462d2b"
      },
      "source": [
        "df.head()"
      ],
      "execution_count": null,
      "outputs": [
        {
          "output_type": "execute_result",
          "data": {
            "text/html": [
              "<div>\n",
              "<style scoped>\n",
              "    .dataframe tbody tr th:only-of-type {\n",
              "        vertical-align: middle;\n",
              "    }\n",
              "\n",
              "    .dataframe tbody tr th {\n",
              "        vertical-align: top;\n",
              "    }\n",
              "\n",
              "    .dataframe thead th {\n",
              "        text-align: right;\n",
              "    }\n",
              "</style>\n",
              "<table border=\"1\" class=\"dataframe\">\n",
              "  <thead>\n",
              "    <tr style=\"text-align: right;\">\n",
              "      <th></th>\n",
              "      <th>ENT_NOM</th>\n",
              "      <th>ENT_DES_TIP_EST</th>\n",
              "      <th>ENT_DES_CANT</th>\n",
              "      <th>ENT_DES_PARR</th>\n",
              "      <th>ENT_DES_TIP_PARR</th>\n",
              "      <th>ENT_NIV</th>\n",
              "      <th>PROF_NOMBRES</th>\n",
              "      <th>PROF_FEC_NAC</th>\n",
              "      <th>PROF_SEXO</th>\n",
              "      <th>PROF_ESP_ATE</th>\n",
              "      <th>PCTE_NOMBRES</th>\n",
              "      <th>PCTE_SEXO</th>\n",
              "      <th>PCTE_ORI_SEX</th>\n",
              "      <th>PCTE_IDE_GEN</th>\n",
              "      <th>PCTE_FEC_NAC</th>\n",
              "      <th>PCTE_NACIONALIDAD</th>\n",
              "      <th>PCTE_AUTID_ETN</th>\n",
              "      <th>PCTE_NAC_ETN</th>\n",
              "      <th>PCTE_PUEBLO</th>\n",
              "      <th>PCTE_SEG</th>\n",
              "      <th>PCTE_DES_CANT</th>\n",
              "      <th>PCTE_DES_PARR</th>\n",
              "      <th>PCTE_PESO</th>\n",
              "      <th>PCTE_TALLA</th>\n",
              "      <th>ajuste_ALTURA</th>\n",
              "      <th>IMC</th>\n",
              "      <th>IMC_Base</th>\n",
              "      <th>PCTE_ULT_PESO</th>\n",
              "      <th>PCTE_ULT_TALLA</th>\n",
              "      <th>PCTE_ULT_IMC</th>\n",
              "      <th>PCTE_ULT_PERIM_CEFALICO</th>\n",
              "      <th>PCTE_ULT_VAL_HEMOGLOBINA</th>\n",
              "      <th>PCTE_ULT_VAL_HEMO_CORREGIDO</th>\n",
              "      <th>PCTE_IND_ANEMIA_HEMOGLOBINA</th>\n",
              "      <th>PCTE_ULT_TALLA_EDAD_Z</th>\n",
              "      <th>PCTE_CAT_TALLA_EDAD_Z</th>\n",
              "      <th>PCTE_ULT_PESO_EDAD_Z</th>\n",
              "      <th>PCTE_CAT_PESO_EDAD_Z</th>\n",
              "      <th>PCTE_ULT_IMC_EDAD_Z</th>\n",
              "      <th>PCTE_CAT_IMC_EDAD_Z</th>\n",
              "      <th>PCTE_ULT_PESO_LONGTALLA_Z</th>\n",
              "      <th>PCTE_CAT_PESO_LONGTALLA_Z</th>\n",
              "      <th>DOEL_NUM_ATEN_CONTR_PRENATAL</th>\n",
              "      <th>DOEL_PRES_HIE_ACIDFOLIC_MUJER</th>\n",
              "      <th>DOEL_VIH</th>\n",
              "      <th>SIVANVAC_DLU24H_RLM_0A5</th>\n",
              "      <th>SIVANVAC_DLU24H_CON_ASSS_6A8</th>\n",
              "      <th>SIVAN_HRHIERRO_MULVIT_MINPOLVO</th>\n",
              "      <th>SIVAN_HR_VITAMINA_A</th>\n",
              "      <th>SIVAN_HR_EXCLUS_LMAT_DESDENAC</th>\n",
              "      <th>SIVANVAC_ROT_1RA_DOS</th>\n",
              "      <th>SIVANVAC_ROT_2DA_DOS</th>\n",
              "      <th>SIVANVAC_NEU_1RA_DOS</th>\n",
              "      <th>SIVANVAC_NEU_2DA_DOS</th>\n",
              "      <th>SIVANVAC_NEU_3RA_DOS</th>\n",
              "      <th>ATEMED_FEC_INI</th>\n",
              "      <th>ATEMED_CIE10</th>\n",
              "      <th>ATEMED_DES_CIE10</th>\n",
              "      <th>ATEMED_NOT_OBL_DIAG</th>\n",
              "      <th>ATEMED_TIP_DIAG</th>\n",
              "      <th>ATEMED_CRON_DIAG</th>\n",
              "      <th>ATEMED_CON_DIAG</th>\n",
              "      <th>ATEMED_TIP_ATE</th>\n",
              "      <th>ATEMED_ID_LUG_ATE</th>\n",
              "      <th>ATEMED_LUG_ATE</th>\n",
              "      <th>PCTE_ULT_IMC_CATEGORIA</th>\n",
              "      <th>PCTE_GRP_PRI_Embarazadas</th>\n",
              "      <th>PCTE_GRP_PRI_Discapacidad</th>\n",
              "      <th>PCTE_GRP_PRI_Assedio_Sexual_Trabajo</th>\n",
              "      <th>PCTE_GRP_PRI_Violencia_Psicologica</th>\n",
              "      <th>PCTE_GRP_PRI_Violencia_Sexual</th>\n",
              "      <th>PCTE_GRP_PRI_Violencia_Fisica</th>\n",
              "      <th>PCTE_GRP_PRI_Maltrato_Infantil</th>\n",
              "      <th>PCTE_GRP_PRI_Enfermidades_Catastroficas</th>\n",
              "      <th>PCTE_GRP_PRI_Desastres_Naturales</th>\n",
              "      <th>PCTE_GRP_PRI_Desastres_Antropogenicos</th>\n",
              "      <th>PCTE_GRP_PRI_Penitenciarios</th>\n",
              "      <th>PCTE_GRP_PRI_QTD</th>\n",
              "      <th>target</th>\n",
              "    </tr>\n",
              "  </thead>\n",
              "  <tbody>\n",
              "    <tr>\n",
              "      <th>0</th>\n",
              "      <td>SAN CARLOS DE LAS MINAS</td>\n",
              "      <td>CENTRO DE SALUD TIPO A</td>\n",
              "      <td>ZAMORA</td>\n",
              "      <td>SAN CARLOS DE LAS MINAS</td>\n",
              "      <td>Rural</td>\n",
              "      <td>NIVEL 1</td>\n",
              "      <td>ELISA MARIBEL</td>\n",
              "      <td>02/11/1978</td>\n",
              "      <td>Mujer</td>\n",
              "      <td>Medicina Familiar Y Comunitaria</td>\n",
              "      <td>LUZ MARIA</td>\n",
              "      <td>Mujer</td>\n",
              "      <td>Heterosexual</td>\n",
              "      <td>Femenino</td>\n",
              "      <td>01/08/1939</td>\n",
              "      <td>ECUATORIANO</td>\n",
              "      <td>Mestizo</td>\n",
              "      <td>No info</td>\n",
              "      <td>No info</td>\n",
              "      <td>No aporta</td>\n",
              "      <td>ZAMORA</td>\n",
              "      <td>SAN CARLOS DE LAS MINAS</td>\n",
              "      <td>0.0</td>\n",
              "      <td>147.0</td>\n",
              "      <td>1.47</td>\n",
              "      <td>0.0</td>\n",
              "      <td>Abaixo do Peso</td>\n",
              "      <td>0.0</td>\n",
              "      <td>147.0</td>\n",
              "      <td>No info</td>\n",
              "      <td>No info</td>\n",
              "      <td>No info</td>\n",
              "      <td>No info</td>\n",
              "      <td>No info</td>\n",
              "      <td>No info</td>\n",
              "      <td>No info</td>\n",
              "      <td>No info</td>\n",
              "      <td>No info</td>\n",
              "      <td>No info</td>\n",
              "      <td>No info</td>\n",
              "      <td>No info</td>\n",
              "      <td>No info</td>\n",
              "      <td>No info</td>\n",
              "      <td>NO</td>\n",
              "      <td>No info</td>\n",
              "      <td>No info</td>\n",
              "      <td>No info</td>\n",
              "      <td>No info</td>\n",
              "      <td>No info</td>\n",
              "      <td>No info</td>\n",
              "      <td>No info</td>\n",
              "      <td>No info</td>\n",
              "      <td>No info</td>\n",
              "      <td>No info</td>\n",
              "      <td>No info</td>\n",
              "      <td>21/11/2019</td>\n",
              "      <td>Z736</td>\n",
              "      <td>PROBLEMAS RELACIONADOS CON LA LIMITACION DE LA...</td>\n",
              "      <td>No info</td>\n",
              "      <td>Prevención</td>\n",
              "      <td>Subsecuente</td>\n",
              "      <td>No info</td>\n",
              "      <td>715</td>\n",
              "      <td>Domicilio</td>\n",
              "      <td>No info</td>\n",
              "      <td>No info</td>\n",
              "      <td>0</td>\n",
              "      <td>1</td>\n",
              "      <td>0</td>\n",
              "      <td>0</td>\n",
              "      <td>0</td>\n",
              "      <td>0</td>\n",
              "      <td>0</td>\n",
              "      <td>0</td>\n",
              "      <td>0</td>\n",
              "      <td>0</td>\n",
              "      <td>0</td>\n",
              "      <td>1.0</td>\n",
              "      <td>0</td>\n",
              "    </tr>\n",
              "    <tr>\n",
              "      <th>1</th>\n",
              "      <td>SAN CARLOS DE LAS MINAS</td>\n",
              "      <td>CENTRO DE SALUD TIPO A</td>\n",
              "      <td>ZAMORA</td>\n",
              "      <td>SAN CARLOS DE LAS MINAS</td>\n",
              "      <td>Rural</td>\n",
              "      <td>NIVEL 1</td>\n",
              "      <td>ELISA MARIBEL</td>\n",
              "      <td>02/11/1978</td>\n",
              "      <td>Mujer</td>\n",
              "      <td>Medicina Familiar Y Comunitaria</td>\n",
              "      <td>VICENTE DEMECIO</td>\n",
              "      <td>Hombre</td>\n",
              "      <td>Heterosexual</td>\n",
              "      <td>Masculino</td>\n",
              "      <td>06/05/1962</td>\n",
              "      <td>ECUATORIANO</td>\n",
              "      <td>Mestizo</td>\n",
              "      <td>No info</td>\n",
              "      <td>No info</td>\n",
              "      <td>No aporta</td>\n",
              "      <td>ZAMORA</td>\n",
              "      <td>SAN CARLOS DE LAS MINAS</td>\n",
              "      <td>0.0</td>\n",
              "      <td>165.0</td>\n",
              "      <td>1.65</td>\n",
              "      <td>0.0</td>\n",
              "      <td>Abaixo do Peso</td>\n",
              "      <td>0.0</td>\n",
              "      <td>165.0</td>\n",
              "      <td>No info</td>\n",
              "      <td>No info</td>\n",
              "      <td>No info</td>\n",
              "      <td>No info</td>\n",
              "      <td>No info</td>\n",
              "      <td>No info</td>\n",
              "      <td>No info</td>\n",
              "      <td>No info</td>\n",
              "      <td>No info</td>\n",
              "      <td>No info</td>\n",
              "      <td>No info</td>\n",
              "      <td>No info</td>\n",
              "      <td>No info</td>\n",
              "      <td>No info</td>\n",
              "      <td>No info</td>\n",
              "      <td>No info</td>\n",
              "      <td>No info</td>\n",
              "      <td>No info</td>\n",
              "      <td>No info</td>\n",
              "      <td>No info</td>\n",
              "      <td>No info</td>\n",
              "      <td>No info</td>\n",
              "      <td>No info</td>\n",
              "      <td>No info</td>\n",
              "      <td>No info</td>\n",
              "      <td>No info</td>\n",
              "      <td>21/11/2019</td>\n",
              "      <td>Z736</td>\n",
              "      <td>PROBLEMAS RELACIONADOS CON LA LIMITACION DE LA...</td>\n",
              "      <td>No info</td>\n",
              "      <td>Prevención</td>\n",
              "      <td>Subsecuente</td>\n",
              "      <td>No info</td>\n",
              "      <td>715</td>\n",
              "      <td>Domicilio</td>\n",
              "      <td>No info</td>\n",
              "      <td>No info</td>\n",
              "      <td>0</td>\n",
              "      <td>1</td>\n",
              "      <td>0</td>\n",
              "      <td>0</td>\n",
              "      <td>0</td>\n",
              "      <td>0</td>\n",
              "      <td>0</td>\n",
              "      <td>0</td>\n",
              "      <td>0</td>\n",
              "      <td>0</td>\n",
              "      <td>0</td>\n",
              "      <td>1.0</td>\n",
              "      <td>0</td>\n",
              "    </tr>\n",
              "    <tr>\n",
              "      <th>2</th>\n",
              "      <td>28 DE MAYO (YACUAMBI)</td>\n",
              "      <td>CENTRO DE SALUD TIPO A</td>\n",
              "      <td>YACUAMBI</td>\n",
              "      <td>28 DE MAYO (SAN JOSE DE YACUAMBI)</td>\n",
              "      <td>Urbano</td>\n",
              "      <td>NIVEL 1</td>\n",
              "      <td>JUAN CARLOS</td>\n",
              "      <td>01/08/1962</td>\n",
              "      <td>Hombre</td>\n",
              "      <td>Medicina General</td>\n",
              "      <td>MANUEL ANTONIO</td>\n",
              "      <td>Hombre</td>\n",
              "      <td>Heterosexual</td>\n",
              "      <td>No info</td>\n",
              "      <td>09/12/1963</td>\n",
              "      <td>ECUATORIANO</td>\n",
              "      <td>Indígena</td>\n",
              "      <td>Kichwa</td>\n",
              "      <td>Saraguro</td>\n",
              "      <td>IESS, Afiliado seguro Campesino</td>\n",
              "      <td>YACUAMBI</td>\n",
              "      <td>28 DE MAYO (SAN JOSE DE YACUAMBI)</td>\n",
              "      <td>0.0</td>\n",
              "      <td>160.0</td>\n",
              "      <td>1.60</td>\n",
              "      <td>0.0</td>\n",
              "      <td>Abaixo do Peso</td>\n",
              "      <td>0.0</td>\n",
              "      <td>160.0</td>\n",
              "      <td>No info</td>\n",
              "      <td>No info</td>\n",
              "      <td>No info</td>\n",
              "      <td>No info</td>\n",
              "      <td>No info</td>\n",
              "      <td>No info</td>\n",
              "      <td>No info</td>\n",
              "      <td>No info</td>\n",
              "      <td>No info</td>\n",
              "      <td>No info</td>\n",
              "      <td>No info</td>\n",
              "      <td>No info</td>\n",
              "      <td>No info</td>\n",
              "      <td>No info</td>\n",
              "      <td>No info</td>\n",
              "      <td>No info</td>\n",
              "      <td>No info</td>\n",
              "      <td>No info</td>\n",
              "      <td>No info</td>\n",
              "      <td>No info</td>\n",
              "      <td>No info</td>\n",
              "      <td>No info</td>\n",
              "      <td>No info</td>\n",
              "      <td>No info</td>\n",
              "      <td>No info</td>\n",
              "      <td>No info</td>\n",
              "      <td>18/09/2019</td>\n",
              "      <td>Z736</td>\n",
              "      <td>PROBLEMAS RELACIONADOS CON LA LIMITACION DE LA...</td>\n",
              "      <td>No info</td>\n",
              "      <td>Prevención</td>\n",
              "      <td>Subsecuente</td>\n",
              "      <td>No info</td>\n",
              "      <td>712</td>\n",
              "      <td>Establecimiento de Salud</td>\n",
              "      <td>No info</td>\n",
              "      <td>No info</td>\n",
              "      <td>0</td>\n",
              "      <td>1</td>\n",
              "      <td>0</td>\n",
              "      <td>0</td>\n",
              "      <td>0</td>\n",
              "      <td>0</td>\n",
              "      <td>0</td>\n",
              "      <td>0</td>\n",
              "      <td>0</td>\n",
              "      <td>0</td>\n",
              "      <td>0</td>\n",
              "      <td>1.0</td>\n",
              "      <td>0</td>\n",
              "    </tr>\n",
              "    <tr>\n",
              "      <th>3</th>\n",
              "      <td>CUMBARATZA</td>\n",
              "      <td>CENTRO DE SALUD TIPO A</td>\n",
              "      <td>ZAMORA</td>\n",
              "      <td>CUMBARATZA</td>\n",
              "      <td>Rural</td>\n",
              "      <td>NIVEL 1</td>\n",
              "      <td>ELISA MARIBEL</td>\n",
              "      <td>02/11/1978</td>\n",
              "      <td>Mujer</td>\n",
              "      <td>Medicina Familiar Y Comunitaria</td>\n",
              "      <td>ANGEL POLIVIO</td>\n",
              "      <td>Hombre</td>\n",
              "      <td>Heterosexual</td>\n",
              "      <td>No info</td>\n",
              "      <td>27/12/1966</td>\n",
              "      <td>ECUATORIANO</td>\n",
              "      <td>Mestizo</td>\n",
              "      <td>No info</td>\n",
              "      <td>No info</td>\n",
              "      <td>IESS, Afiliado seguro Campesino</td>\n",
              "      <td>ZAMORA</td>\n",
              "      <td>CUMBARATZA</td>\n",
              "      <td>0.0</td>\n",
              "      <td>160.0</td>\n",
              "      <td>1.60</td>\n",
              "      <td>0.0</td>\n",
              "      <td>Abaixo do Peso</td>\n",
              "      <td>0.0</td>\n",
              "      <td>160.0</td>\n",
              "      <td>No info</td>\n",
              "      <td>No info</td>\n",
              "      <td>No info</td>\n",
              "      <td>No info</td>\n",
              "      <td>No info</td>\n",
              "      <td>No info</td>\n",
              "      <td>No info</td>\n",
              "      <td>No info</td>\n",
              "      <td>No info</td>\n",
              "      <td>No info</td>\n",
              "      <td>No info</td>\n",
              "      <td>No info</td>\n",
              "      <td>No info</td>\n",
              "      <td>No info</td>\n",
              "      <td>No info</td>\n",
              "      <td>No info</td>\n",
              "      <td>No info</td>\n",
              "      <td>No info</td>\n",
              "      <td>No info</td>\n",
              "      <td>No info</td>\n",
              "      <td>No info</td>\n",
              "      <td>No info</td>\n",
              "      <td>No info</td>\n",
              "      <td>No info</td>\n",
              "      <td>No info</td>\n",
              "      <td>No info</td>\n",
              "      <td>21/11/2019</td>\n",
              "      <td>Z736</td>\n",
              "      <td>PROBLEMAS RELACIONADOS CON LA LIMITACION DE LA...</td>\n",
              "      <td>No info</td>\n",
              "      <td>Prevención</td>\n",
              "      <td>Subsecuente</td>\n",
              "      <td>No info</td>\n",
              "      <td>715</td>\n",
              "      <td>Domicilio</td>\n",
              "      <td>No info</td>\n",
              "      <td>No info</td>\n",
              "      <td>0</td>\n",
              "      <td>1</td>\n",
              "      <td>0</td>\n",
              "      <td>0</td>\n",
              "      <td>0</td>\n",
              "      <td>0</td>\n",
              "      <td>0</td>\n",
              "      <td>0</td>\n",
              "      <td>0</td>\n",
              "      <td>0</td>\n",
              "      <td>0</td>\n",
              "      <td>1.0</td>\n",
              "      <td>0</td>\n",
              "    </tr>\n",
              "    <tr>\n",
              "      <th>4</th>\n",
              "      <td>CUMBARATZA</td>\n",
              "      <td>CENTRO DE SALUD TIPO A</td>\n",
              "      <td>ZAMORA</td>\n",
              "      <td>CUMBARATZA</td>\n",
              "      <td>Rural</td>\n",
              "      <td>NIVEL 1</td>\n",
              "      <td>ELISA MARIBEL</td>\n",
              "      <td>02/11/1978</td>\n",
              "      <td>Mujer</td>\n",
              "      <td>Medicina Familiar Y Comunitaria</td>\n",
              "      <td>ANGEL POLIVIO</td>\n",
              "      <td>Hombre</td>\n",
              "      <td>Heterosexual</td>\n",
              "      <td>No info</td>\n",
              "      <td>02/07/1981</td>\n",
              "      <td>ECUATORIANO</td>\n",
              "      <td>Mestizo</td>\n",
              "      <td>No info</td>\n",
              "      <td>No info</td>\n",
              "      <td>No aporta</td>\n",
              "      <td>ZAMORA</td>\n",
              "      <td>CUMBARATZA</td>\n",
              "      <td>0.0</td>\n",
              "      <td>159.0</td>\n",
              "      <td>1.59</td>\n",
              "      <td>0.0</td>\n",
              "      <td>Abaixo do Peso</td>\n",
              "      <td>0.0</td>\n",
              "      <td>159.0</td>\n",
              "      <td>No info</td>\n",
              "      <td>No info</td>\n",
              "      <td>No info</td>\n",
              "      <td>No info</td>\n",
              "      <td>No info</td>\n",
              "      <td>No info</td>\n",
              "      <td>No info</td>\n",
              "      <td>No info</td>\n",
              "      <td>No info</td>\n",
              "      <td>No info</td>\n",
              "      <td>No info</td>\n",
              "      <td>No info</td>\n",
              "      <td>No info</td>\n",
              "      <td>No info</td>\n",
              "      <td>No info</td>\n",
              "      <td>No info</td>\n",
              "      <td>No info</td>\n",
              "      <td>No info</td>\n",
              "      <td>No info</td>\n",
              "      <td>No info</td>\n",
              "      <td>No info</td>\n",
              "      <td>No info</td>\n",
              "      <td>No info</td>\n",
              "      <td>No info</td>\n",
              "      <td>No info</td>\n",
              "      <td>No info</td>\n",
              "      <td>21/11/2019</td>\n",
              "      <td>Z736</td>\n",
              "      <td>PROBLEMAS RELACIONADOS CON LA LIMITACION DE LA...</td>\n",
              "      <td>No info</td>\n",
              "      <td>Prevención</td>\n",
              "      <td>Subsecuente</td>\n",
              "      <td>No info</td>\n",
              "      <td>715</td>\n",
              "      <td>Domicilio</td>\n",
              "      <td>No info</td>\n",
              "      <td>No info</td>\n",
              "      <td>0</td>\n",
              "      <td>1</td>\n",
              "      <td>0</td>\n",
              "      <td>0</td>\n",
              "      <td>0</td>\n",
              "      <td>0</td>\n",
              "      <td>0</td>\n",
              "      <td>0</td>\n",
              "      <td>0</td>\n",
              "      <td>0</td>\n",
              "      <td>0</td>\n",
              "      <td>1.0</td>\n",
              "      <td>0</td>\n",
              "    </tr>\n",
              "  </tbody>\n",
              "</table>\n",
              "</div>"
            ],
            "text/plain": [
              "                   ENT_NOM         ENT_DES_TIP_EST  ... PCTE_GRP_PRI_QTD target\n",
              "0  SAN CARLOS DE LAS MINAS  CENTRO DE SALUD TIPO A  ...              1.0      0\n",
              "1  SAN CARLOS DE LAS MINAS  CENTRO DE SALUD TIPO A  ...              1.0      0\n",
              "2    28 DE MAYO (YACUAMBI)  CENTRO DE SALUD TIPO A  ...              1.0      0\n",
              "3               CUMBARATZA  CENTRO DE SALUD TIPO A  ...              1.0      0\n",
              "4               CUMBARATZA  CENTRO DE SALUD TIPO A  ...              1.0      0\n",
              "\n",
              "[5 rows x 79 columns]"
            ]
          },
          "metadata": {
            "tags": []
          },
          "execution_count": 19
        }
      ]
    },
    {
      "cell_type": "code",
      "metadata": {
        "id": "nInJBRvhfVvV",
        "colab": {
          "base_uri": "https://localhost:8080/"
        },
        "outputId": "85db7d5c-afac-4de7-facb-8bbc7b3b987a"
      },
      "source": [
        "df.columns"
      ],
      "execution_count": null,
      "outputs": [
        {
          "output_type": "execute_result",
          "data": {
            "text/plain": [
              "Index(['ENT_NOM', 'ENT_DES_TIP_EST', 'ENT_DES_CANT', 'ENT_DES_PARR',\n",
              "       'ENT_DES_TIP_PARR', 'ENT_NIV', 'PROF_NOMBRES', 'PROF_FEC_NAC',\n",
              "       'PROF_SEXO', 'PROF_ESP_ATE', 'PCTE_NOMBRES', 'PCTE_SEXO',\n",
              "       'PCTE_ORI_SEX', 'PCTE_IDE_GEN', 'PCTE_FEC_NAC', 'PCTE_NACIONALIDAD',\n",
              "       'PCTE_AUTID_ETN', 'PCTE_NAC_ETN', 'PCTE_PUEBLO', 'PCTE_SEG',\n",
              "       'PCTE_DES_CANT', 'PCTE_DES_PARR', 'PCTE_PESO', 'PCTE_TALLA',\n",
              "       'ajuste_ALTURA', 'IMC', 'IMC_Base', 'PCTE_ULT_PESO', 'PCTE_ULT_TALLA',\n",
              "       'PCTE_ULT_IMC', 'PCTE_ULT_PERIM_CEFALICO', 'PCTE_ULT_VAL_HEMOGLOBINA',\n",
              "       'PCTE_ULT_VAL_HEMO_CORREGIDO', 'PCTE_IND_ANEMIA_HEMOGLOBINA',\n",
              "       'PCTE_ULT_TALLA_EDAD_Z', 'PCTE_CAT_TALLA_EDAD_Z',\n",
              "       'PCTE_ULT_PESO_EDAD_Z', 'PCTE_CAT_PESO_EDAD_Z', 'PCTE_ULT_IMC_EDAD_Z',\n",
              "       'PCTE_CAT_IMC_EDAD_Z', 'PCTE_ULT_PESO_LONGTALLA_Z',\n",
              "       'PCTE_CAT_PESO_LONGTALLA_Z', 'DOEL_NUM_ATEN_CONTR_PRENATAL',\n",
              "       'DOEL_PRES_HIE_ACIDFOLIC_MUJER', 'DOEL_VIH', 'SIVANVAC_DLU24H_RLM_0A5',\n",
              "       'SIVANVAC_DLU24H_CON_ASSS_6A8', 'SIVAN_HRHIERRO_MULVIT_MINPOLVO',\n",
              "       'SIVAN_HR_VITAMINA_A', 'SIVAN_HR_EXCLUS_LMAT_DESDENAC',\n",
              "       'SIVANVAC_ROT_1RA_DOS', 'SIVANVAC_ROT_2DA_DOS', 'SIVANVAC_NEU_1RA_DOS',\n",
              "       'SIVANVAC_NEU_2DA_DOS', 'SIVANVAC_NEU_3RA_DOS', 'ATEMED_FEC_INI',\n",
              "       'ATEMED_CIE10', 'ATEMED_DES_CIE10', 'ATEMED_NOT_OBL_DIAG',\n",
              "       'ATEMED_TIP_DIAG', 'ATEMED_CRON_DIAG', 'ATEMED_CON_DIAG',\n",
              "       'ATEMED_TIP_ATE', 'ATEMED_ID_LUG_ATE', 'ATEMED_LUG_ATE',\n",
              "       'PCTE_ULT_IMC_CATEGORIA', 'PCTE_GRP_PRI_Embarazadas',\n",
              "       'PCTE_GRP_PRI_Discapacidad', 'PCTE_GRP_PRI_Assedio_Sexual_Trabajo',\n",
              "       'PCTE_GRP_PRI_Violencia_Psicologica', 'PCTE_GRP_PRI_Violencia_Sexual',\n",
              "       'PCTE_GRP_PRI_Violencia_Fisica', 'PCTE_GRP_PRI_Maltrato_Infantil',\n",
              "       'PCTE_GRP_PRI_Enfermidades_Catastroficas',\n",
              "       'PCTE_GRP_PRI_Desastres_Naturales',\n",
              "       'PCTE_GRP_PRI_Desastres_Antropogenicos', 'PCTE_GRP_PRI_Penitenciarios',\n",
              "       'PCTE_GRP_PRI_QTD', 'target'],\n",
              "      dtype='object')"
            ]
          },
          "metadata": {
            "tags": []
          },
          "execution_count": 20
        }
      ]
    },
    {
      "cell_type": "code",
      "metadata": {
        "id": "-rifiVrifVvi"
      },
      "source": [
        "cols_to_drop = ['ENT_NOM', 'ENT_DES_TIP_EST', 'ENT_DES_CANT', 'ENT_DES_PARR',\n",
        "       'ENT_DES_TIP_PARR', 'ENT_NIV', 'PROF_NOMBRES', 'PROF_FEC_NAC',\n",
        "       'PROF_SEXO', 'PROF_ESP_ATE', 'PCTE_NOMBRES', 'PCTE_FEC_NAC', 'PCTE_PESO', \n",
        "       'PCTE_TALLA', 'ajuste_ALTURA', 'IMC_Base', 'PCTE_ULT_PESO', 'PCTE_ULT_TALLA',\n",
        "       'PCTE_ULT_IMC', 'PCTE_ULT_PERIM_CEFALICO', 'PCTE_ULT_VAL_HEMOGLOBINA',\n",
        "       'PCTE_ULT_VAL_HEMO_CORREGIDO', 'PCTE_IND_ANEMIA_HEMOGLOBINA',\n",
        "       'PCTE_ULT_TALLA_EDAD_Z', 'PCTE_CAT_TALLA_EDAD_Z',\n",
        "       'PCTE_ULT_PESO_EDAD_Z', 'PCTE_CAT_PESO_EDAD_Z', 'PCTE_ULT_IMC_EDAD_Z',\n",
        "       'PCTE_CAT_IMC_EDAD_Z', 'PCTE_ULT_PESO_LONGTALLA_Z',\n",
        "       'PCTE_CAT_PESO_LONGTALLA_Z', 'DOEL_NUM_ATEN_CONTR_PRENATAL',\n",
        "       'DOEL_PRES_HIE_ACIDFOLIC_MUJER', 'DOEL_VIH', 'SIVANVAC_DLU24H_RLM_0A5',\n",
        "       'SIVANVAC_DLU24H_CON_ASSS_6A8', 'SIVAN_HRHIERRO_MULVIT_MINPOLVO',\n",
        "       'SIVAN_HR_VITAMINA_A', 'SIVAN_HR_EXCLUS_LMAT_DESDENAC',\n",
        "       'SIVANVAC_ROT_1RA_DOS', 'SIVANVAC_ROT_2DA_DOS', 'SIVANVAC_NEU_1RA_DOS',\n",
        "       'SIVANVAC_NEU_2DA_DOS', 'SIVANVAC_NEU_3RA_DOS', 'ATEMED_FEC_INI',\n",
        "       'ATEMED_CIE10', 'ATEMED_DES_CIE10', 'ATEMED_NOT_OBL_DIAG',\n",
        "       'ATEMED_TIP_DIAG', 'ATEMED_CRON_DIAG', 'ATEMED_CON_DIAG',\n",
        "       'ATEMED_TIP_ATE', 'ATEMED_ID_LUG_ATE', 'ATEMED_LUG_ATE',\n",
        "       'PCTE_ULT_IMC_CATEGORIA', 'PCTE_GRP_PRI_Embarazadas',\n",
        "       'PCTE_GRP_PRI_Discapacidad', 'PCTE_GRP_PRI_Assedio_Sexual_Trabajo',\n",
        "       'PCTE_GRP_PRI_Violencia_Psicologica', 'PCTE_GRP_PRI_Violencia_Sexual',\n",
        "       'PCTE_GRP_PRI_Violencia_Fisica', 'PCTE_GRP_PRI_Maltrato_Infantil',\n",
        "       'PCTE_GRP_PRI_Enfermidades_Catastroficas',\n",
        "       'PCTE_GRP_PRI_Desastres_Naturales',\n",
        "       'PCTE_GRP_PRI_Desastres_Antropogenicos', 'PCTE_GRP_PRI_Penitenciarios',\n",
        "       'PCTE_GRP_PRI_QTD', 'IMC']\n",
        "\n",
        "useful_cols = df.drop(cols_to_drop, axis=1)"
      ],
      "execution_count": null,
      "outputs": []
    },
    {
      "cell_type": "code",
      "metadata": {
        "id": "6IP2gAVpfVvt",
        "colab": {
          "base_uri": "https://localhost:8080/",
          "height": 360
        },
        "outputId": "13a29721-6001-4dd8-c826-41136bbb6e0b"
      },
      "source": [
        "useful_cols.head()"
      ],
      "execution_count": null,
      "outputs": [
        {
          "output_type": "execute_result",
          "data": {
            "text/html": [
              "<div>\n",
              "<style scoped>\n",
              "    .dataframe tbody tr th:only-of-type {\n",
              "        vertical-align: middle;\n",
              "    }\n",
              "\n",
              "    .dataframe tbody tr th {\n",
              "        vertical-align: top;\n",
              "    }\n",
              "\n",
              "    .dataframe thead th {\n",
              "        text-align: right;\n",
              "    }\n",
              "</style>\n",
              "<table border=\"1\" class=\"dataframe\">\n",
              "  <thead>\n",
              "    <tr style=\"text-align: right;\">\n",
              "      <th></th>\n",
              "      <th>PCTE_SEXO</th>\n",
              "      <th>PCTE_ORI_SEX</th>\n",
              "      <th>PCTE_IDE_GEN</th>\n",
              "      <th>PCTE_NACIONALIDAD</th>\n",
              "      <th>PCTE_AUTID_ETN</th>\n",
              "      <th>PCTE_NAC_ETN</th>\n",
              "      <th>PCTE_PUEBLO</th>\n",
              "      <th>PCTE_SEG</th>\n",
              "      <th>PCTE_DES_CANT</th>\n",
              "      <th>PCTE_DES_PARR</th>\n",
              "      <th>target</th>\n",
              "    </tr>\n",
              "  </thead>\n",
              "  <tbody>\n",
              "    <tr>\n",
              "      <th>0</th>\n",
              "      <td>Mujer</td>\n",
              "      <td>Heterosexual</td>\n",
              "      <td>Femenino</td>\n",
              "      <td>ECUATORIANO</td>\n",
              "      <td>Mestizo</td>\n",
              "      <td>No info</td>\n",
              "      <td>No info</td>\n",
              "      <td>No aporta</td>\n",
              "      <td>ZAMORA</td>\n",
              "      <td>SAN CARLOS DE LAS MINAS</td>\n",
              "      <td>0</td>\n",
              "    </tr>\n",
              "    <tr>\n",
              "      <th>1</th>\n",
              "      <td>Hombre</td>\n",
              "      <td>Heterosexual</td>\n",
              "      <td>Masculino</td>\n",
              "      <td>ECUATORIANO</td>\n",
              "      <td>Mestizo</td>\n",
              "      <td>No info</td>\n",
              "      <td>No info</td>\n",
              "      <td>No aporta</td>\n",
              "      <td>ZAMORA</td>\n",
              "      <td>SAN CARLOS DE LAS MINAS</td>\n",
              "      <td>0</td>\n",
              "    </tr>\n",
              "    <tr>\n",
              "      <th>2</th>\n",
              "      <td>Hombre</td>\n",
              "      <td>Heterosexual</td>\n",
              "      <td>No info</td>\n",
              "      <td>ECUATORIANO</td>\n",
              "      <td>Indígena</td>\n",
              "      <td>Kichwa</td>\n",
              "      <td>Saraguro</td>\n",
              "      <td>IESS, Afiliado seguro Campesino</td>\n",
              "      <td>YACUAMBI</td>\n",
              "      <td>28 DE MAYO (SAN JOSE DE YACUAMBI)</td>\n",
              "      <td>0</td>\n",
              "    </tr>\n",
              "    <tr>\n",
              "      <th>3</th>\n",
              "      <td>Hombre</td>\n",
              "      <td>Heterosexual</td>\n",
              "      <td>No info</td>\n",
              "      <td>ECUATORIANO</td>\n",
              "      <td>Mestizo</td>\n",
              "      <td>No info</td>\n",
              "      <td>No info</td>\n",
              "      <td>IESS, Afiliado seguro Campesino</td>\n",
              "      <td>ZAMORA</td>\n",
              "      <td>CUMBARATZA</td>\n",
              "      <td>0</td>\n",
              "    </tr>\n",
              "    <tr>\n",
              "      <th>4</th>\n",
              "      <td>Hombre</td>\n",
              "      <td>Heterosexual</td>\n",
              "      <td>No info</td>\n",
              "      <td>ECUATORIANO</td>\n",
              "      <td>Mestizo</td>\n",
              "      <td>No info</td>\n",
              "      <td>No info</td>\n",
              "      <td>No aporta</td>\n",
              "      <td>ZAMORA</td>\n",
              "      <td>CUMBARATZA</td>\n",
              "      <td>0</td>\n",
              "    </tr>\n",
              "  </tbody>\n",
              "</table>\n",
              "</div>"
            ],
            "text/plain": [
              "  PCTE_SEXO  PCTE_ORI_SEX  ...                      PCTE_DES_PARR target\n",
              "0     Mujer  Heterosexual  ...            SAN CARLOS DE LAS MINAS      0\n",
              "1    Hombre  Heterosexual  ...            SAN CARLOS DE LAS MINAS      0\n",
              "2    Hombre  Heterosexual  ...  28 DE MAYO (SAN JOSE DE YACUAMBI)      0\n",
              "3    Hombre  Heterosexual  ...                         CUMBARATZA      0\n",
              "4    Hombre  Heterosexual  ...                         CUMBARATZA      0\n",
              "\n",
              "[5 rows x 11 columns]"
            ]
          },
          "metadata": {
            "tags": []
          },
          "execution_count": 22
        }
      ]
    },
    {
      "cell_type": "code",
      "metadata": {
        "id": "heZJMKODfVv1",
        "colab": {
          "base_uri": "https://localhost:8080/"
        },
        "outputId": "ff21dd24-25ed-40c2-955d-b916f7e49210"
      },
      "source": [
        "useful_cols.PCTE_SEXO.unique()"
      ],
      "execution_count": null,
      "outputs": [
        {
          "output_type": "execute_result",
          "data": {
            "text/plain": [
              "array(['Mujer', 'Hombre'], dtype=object)"
            ]
          },
          "metadata": {
            "tags": []
          },
          "execution_count": 23
        }
      ]
    },
    {
      "cell_type": "code",
      "metadata": {
        "id": "G6tpIgNKfVv_",
        "colab": {
          "base_uri": "https://localhost:8080/"
        },
        "outputId": "16653bd5-4be0-4e64-85ee-39541de8be6b"
      },
      "source": [
        "useful_cols.PCTE_IDE_GEN.unique()"
      ],
      "execution_count": null,
      "outputs": [
        {
          "output_type": "execute_result",
          "data": {
            "text/plain": [
              "array(['Femenino', 'Masculino', 'No info', 'Transmasculino'], dtype=object)"
            ]
          },
          "metadata": {
            "tags": []
          },
          "execution_count": 24
        }
      ]
    },
    {
      "cell_type": "code",
      "metadata": {
        "id": "xuRXDhtWfVwK",
        "colab": {
          "base_uri": "https://localhost:8080/"
        },
        "outputId": "85d92c34-b1fc-411a-a0e0-6dd27e38ec80"
      },
      "source": [
        "useful_cols.PCTE_NACIONALIDAD.unique()"
      ],
      "execution_count": null,
      "outputs": [
        {
          "output_type": "execute_result",
          "data": {
            "text/plain": [
              "array(['ECUATORIANO', 'ARGENTINO', 'PERUANO', 'COLOMBIANO', 'VENEZOLANO',\n",
              "       'ESPANOL', 'CHILENO', 'GRIEGO', 'SERBIO', 'CHINO', 'BOLIVIANO',\n",
              "       'PALAUANO', 'RUSO'], dtype=object)"
            ]
          },
          "metadata": {
            "tags": []
          },
          "execution_count": 25
        }
      ]
    },
    {
      "cell_type": "code",
      "metadata": {
        "id": "2Z3_SoEgfVwS",
        "colab": {
          "base_uri": "https://localhost:8080/"
        },
        "outputId": "17089412-0abd-4213-9445-8dd8e02afb78"
      },
      "source": [
        "useful_cols.replace(to_replace='Indígena', value='Indigena', inplace=True)\n",
        "useful_cols.PCTE_AUTID_ETN.fillna('No info', inplace=True)\n",
        "\n",
        "useful_cols.PCTE_AUTID_ETN.unique()"
      ],
      "execution_count": null,
      "outputs": [
        {
          "output_type": "execute_result",
          "data": {
            "text/plain": [
              "array(['Mestizo', 'Indigena', 'No info', 'Mulato', 'Montubio',\n",
              "       'Afroecuatoriano', 'Blanco', 'Negro'], dtype=object)"
            ]
          },
          "metadata": {
            "tags": []
          },
          "execution_count": 26
        }
      ]
    },
    {
      "cell_type": "code",
      "metadata": {
        "id": "7jr55YzjfVwa",
        "colab": {
          "base_uri": "https://localhost:8080/"
        },
        "outputId": "ff6e4988-20ae-44d2-9b0c-78ca89af5d4f"
      },
      "source": [
        "useful_cols.PCTE_NAC_ETN.unique()"
      ],
      "execution_count": null,
      "outputs": [
        {
          "output_type": "execute_result",
          "data": {
            "text/plain": [
              "array(['No info', 'Kichwa', 'Shuar', 'Shiwiar', 'Waorani', 'Achuar',\n",
              "       'Epera', 'Awa', 'Manta'], dtype=object)"
            ]
          },
          "metadata": {
            "tags": []
          },
          "execution_count": 27
        }
      ]
    },
    {
      "cell_type": "code",
      "metadata": {
        "id": "GRTh3UK2fVwg",
        "colab": {
          "base_uri": "https://localhost:8080/"
        },
        "outputId": "8a432514-3f87-4434-ad0e-64263107e231"
      },
      "source": [
        "useful_cols.PCTE_PUEBLO.unique()"
      ],
      "execution_count": null,
      "outputs": [
        {
          "output_type": "execute_result",
          "data": {
            "text/plain": [
              "array(['No info', 'Saraguro', 'Waramka', 'Kichwa Amazonico', 'Puruha',\n",
              "       'Otavalo', 'Salasaka'], dtype=object)"
            ]
          },
          "metadata": {
            "tags": []
          },
          "execution_count": 28
        }
      ]
    },
    {
      "cell_type": "code",
      "metadata": {
        "id": "qLnw7BsHfVwt",
        "colab": {
          "base_uri": "https://localhost:8080/"
        },
        "outputId": "b4acece4-4432-4eb2-fcfb-43df221d1476"
      },
      "source": [
        "useful_cols.PCTE_SEG.unique()"
      ],
      "execution_count": null,
      "outputs": [
        {
          "output_type": "execute_result",
          "data": {
            "text/plain": [
              "array(['No aporta', 'IESS, Afiliado seguro Campesino',\n",
              "       'IESS, Dependiente hijo menor de 18 anos de afiliado al seguro general',\n",
              "       'Seguro ISSFA', 'IESS, Beneficiario de Montepio 4.15',\n",
              "       'IESS, Afiliado seguro general tiempo completo', 'Seguro ISSPOL',\n",
              "       'IESS, Afiliado voluntario', 'IESS, Jubilado sistema de pensiones',\n",
              "       'IESS, Dependiente por extension de cobertura seguro general',\n",
              "       'IESS, Afiliado seguro general tiempo parcial',\n",
              "       'IESS, Afiliado seguro General',\n",
              "       'IESS, Dependiente por Extension de Cobertura pensionista',\n",
              "       'IESS, Jubilado Riesgos del Trabajo (cita condicionada)'],\n",
              "      dtype=object)"
            ]
          },
          "metadata": {
            "tags": []
          },
          "execution_count": 29
        }
      ]
    },
    {
      "cell_type": "code",
      "metadata": {
        "id": "pb0fJ7k7fVw7",
        "colab": {
          "base_uri": "https://localhost:8080/"
        },
        "outputId": "fa3f4eda-caad-4cc3-fd0c-01dff57743e6"
      },
      "source": [
        "useful_cols.PCTE_DES_CANT.unique()"
      ],
      "execution_count": null,
      "outputs": [
        {
          "output_type": "execute_result",
          "data": {
            "text/plain": [
              "array(['ZAMORA', 'YACUAMBI', 'LOJA', 'PAQUISHA', 'YANTZAZA', 'CATAMAYO',\n",
              "       'SANTO DOMINGO', 'CAMILO PONCE ENRIQUEZ', 'CENTINELA DEL CONDOR',\n",
              "       'No info', 'RIOBAMBA', 'EL PANGUI', 'NANGARITZA', 'LOGROÑO',\n",
              "       'SARAGURO', 'SAN MIGUEL DE URCUQUI', 'PASTAZA', 'BIBLIAN',\n",
              "       'DISTRITO METROPOLITANO DE QUITO', 'DELEG', 'LA CONCORDIA',\n",
              "       'ZARUMA', 'SUCUA', 'QUEVEDO', 'CUENCA', 'OTAVALO', 'SIGSIG',\n",
              "       'CALVAS', 'LA TRONCAL', 'LA JOYA DE LOS SACHAS', 'CHINCHIPE',\n",
              "       'IBARRA', 'GONZANAMA', 'PALANDA', 'SUCRE', 'SALCEDO', 'GUAYAQUIL',\n",
              "       'ESPINDOLA', 'PALTAS', 'ROCAFUERTE', 'JAMA', 'TENA', 'SANTA CLARA',\n",
              "       'NABON', 'PEDRO MONCAYO', 'GIRON', 'ORELLANA', 'LAGO AGRIO',\n",
              "       'GUALACEO', 'CASCALES', 'YANTZAZA (YANZATZA)', 'MACHALA',\n",
              "       'EL GUABO', 'MORONA', 'SAN MIGUEL DE LOS BANCOS', 'GUALAQUIZA',\n",
              "       'MACARA', 'SAN MIGUEL', 'AMBATO', 'MEJIA', 'QUILANGA', 'BALSAS',\n",
              "       'PUEBLOVIEJO', 'ZAPOTILLO', 'GONZALO PIZARRO', 'SHUSHUFINDI',\n",
              "       'LATACUNGA', 'HUAMBOYA', 'SALINAS', 'SANTA CRUZ', 'SANTA ROSA',\n",
              "       'MANTA', 'GUARANDA', 'OÑA', 'AZOGUES', 'PUERTO LOPEZ', 'EL CHACO',\n",
              "       'PORTOVIEJO', 'PASAJE', 'PORTOVELO', 'ALAUSI',\n",
              "       'PEDRO VICENTE MALDONADO', 'SAN VICENTE', 'QUITO', 'TOSAGUA',\n",
              "       'ESMERALDAS', 'LA MANA', 'ATAHUALPA', 'SANTA ANA', 'RUMIÑAHUI',\n",
              "       'GUANO', 'TAISHA', 'ATACAMES', 'TULCAN', 'CELICA', 'DURAN',\n",
              "       'SANTIAGO DE PILLARO', 'BABAHOYO'], dtype=object)"
            ]
          },
          "metadata": {
            "tags": []
          },
          "execution_count": 30
        }
      ]
    },
    {
      "cell_type": "code",
      "metadata": {
        "id": "1zBofU2nfVxC",
        "colab": {
          "base_uri": "https://localhost:8080/"
        },
        "outputId": "592fabff-b560-4990-8817-539288a544d9"
      },
      "source": [
        "useful_cols.PCTE_DES_PARR.unique()"
      ],
      "execution_count": null,
      "outputs": [
        {
          "output_type": "execute_result",
          "data": {
            "text/plain": [
              "array(['SAN CARLOS DE LAS MINAS', '28 DE MAYO (SAN JOSE DE YACUAMBI)',\n",
              "       'CUMBARATZA', 'ZAMORA', 'LA PAZ', 'SUCRE', 'SABANILLA', 'PAQUISHA',\n",
              "       'TIMBARA', 'GUADALUPE', 'IMBANA (LA VICTORIA DE IMBANA)',\n",
              "       'YANTZAZA (YANZATZA)', 'CATAMAYO', 'BOMBOLI',\n",
              "       'CAMILO PONCE ENRIQUEZ', 'EL LIMÓN', 'ZUMBI', 'No info',\n",
              "       'EL SAGRARIO', 'MALDONADO', 'VALLE', 'TUTUPALI', 'PACHICUTZA',\n",
              "       'ZURMI', 'NUEVO QUITO', 'SAN SEBASTIAN', 'EL PANGUI', 'LOGROÑO',\n",
              "       'SARAGURO', 'SAN LUCAS', 'EL LIMON', 'LA MERCED DE BUENOS AIRES',\n",
              "       'PUYO', 'BIBLIAN', 'GUALEL', 'EL GUISME', 'VILCABAMBA (VICTORIA)',\n",
              "       'NUEVO PARAISO', 'CONOCOTO', 'DELEG', 'TRIUNFO-DORADO',\n",
              "       'LA CONCORDIA', 'MANU', 'LOS ENCUENTROS', 'PUNZARA', 'TUNDAYME',\n",
              "       'ZARUMA', 'LOJA', 'SUCUA', 'SAN JOSE', 'EL GUAYACAN', 'PANGUINTZA',\n",
              "       'RICAURTE', 'EUGENIO ESPEJO (CALPAQUI)', 'SAN BARTOLOME',\n",
              "       'CARIAMANGA (RURAL)', 'MANUEL J. CALLE', 'SAN BARTOLO',\n",
              "       'LA JOYA DE LOS SACHAS', 'GUAMANI', 'CHITO', 'CARIAMANGA (URBANO)',\n",
              "       'LA DOLOROSA DEL PRIORATO', 'NAMBACOLA', 'CHICAÑA', 'PALANDA',\n",
              "       'VELASCO', 'BAHIA DE CARAQUEZ (URBANO)', 'PANSALEO', 'LLANO CHICO',\n",
              "       'TAQUIL (MIGUEL RIOFRIO)', 'GUAYZIMI', 'ZUMBA',\n",
              "       'CATAMAYO (LA TOMA)', 'LIZARZABURU', 'FEBRES CORDERO', 'AMALUZA',\n",
              "       'TENGUEL', 'CATACOCHA (RURAL)', 'ROCAFUERTE', 'JAMA', 'TENA',\n",
              "       'SANTA CLARA', 'NABON', 'ZARACAY', 'EL VECINO',\n",
              "       'EL PROGRESO (CAB. EN ZHOTA)', 'MALCHINGUI', 'BELLAVISTA',\n",
              "       'EL LUCERO', 'GIRON', 'LA ARGELIA',\n",
              "       'SANTO DOMINGO DE LOS COLORADOS (URBANO)', 'EL COCA', 'PACAYACU',\n",
              "       'SAN JUAN', 'EL DORADO DE CASCALES', 'EL CAMBIO', 'CHIMBACALLE',\n",
              "       'SACAPALCA', 'EL GUABO', 'TURUBAMBA', 'SANTA TERESITA',\n",
              "       'CALDERON (CARAPUNGO)', 'MACAS', 'SAN MIGUEL DE LOS BANCOS',\n",
              "       'JIMBILLA', 'GUALAQUIZA (RURAL)', 'MACARA', 'SELVA ALEGRE',\n",
              "       'EL PORVENIR DEL CARMEN', 'SANTA MARIA DEL TOACHI', 'LA MAGDALENA',\n",
              "       'MACHALA (URBANO)', 'SAN MIGUEL', 'SAN ANTONIO', 'HUACHI LORETO',\n",
              "       'LA LIBERTAD', 'JIMBURA', 'CUENCA', 'AMBUQUI', 'MACHACHI',\n",
              "       'QUILANGA', 'BALSAS', 'PUEBLOVIEJO', 'ZAPOTILLO', 'AMBATILLO',\n",
              "       'CATACOCHA (URBANO)', 'EL CISNE', 'LUMBAQUI',\n",
              "       'URDANETA (PAQUISHAPA)', 'SANTIAGO', 'LIMONCOCHA',\n",
              "       'ELOY ALFARO (SAN FELIPE)', 'BOMBOIZA',\n",
              "       'YANGANA (ARSENIO CASTILLO)', 'AUGUSTO N. MARTINEZ (MUNDUGLEO)',\n",
              "       'ATOCHA - FICOA', 'SAN ISIDRO', 'CHIGUAZA', 'TURI', 'SALINAS',\n",
              "       'CHILE', 'PUERTO AYORA', 'TARQUI', 'RIO VERDE', 'EL TAMBO',\n",
              "       'VICTORIA', 'MACHALA', 'SAN MIGUEL DE IBARRA', 'LOS ESTEROS',\n",
              "       'GABRIEL IGNACIO VEINTIMILLA', 'SAN FELIPE DE OÑA', 'AZOGUES',\n",
              "       'SAN BLAS', 'SANTA ROSA (RURAL)', 'PUERTO LOPEZ', 'LA FERROVIARIA',\n",
              "       'EL CHACO', 'QUITUMBE', 'LA PROVIDENCIA', 'MACHALA (RURAL)',\n",
              "       '12 DE MARZO', 'OCHOA LEON (MATRIZ)', 'PORTOVELO', 'ALAUSI',\n",
              "       'PURUNUMA (EGUIGUREN)', 'GUARANDA', 'CHECA (JIDCAY)',\n",
              "       'PEDRO VICENTE MALDONADO', 'TOTORACOCHA', 'SAN VICENTE',\n",
              "       'HERMANO MIGUEL', 'TOSAGUA', 'SIGSIG', 'ESMERALDAS (URBANO)',\n",
              "       'NUEVE DE MAYO', 'EL BATAN', 'EL TRIUNFO', 'GUALAQUIZA (URBANO)',\n",
              "       'TAMBILLO', 'CHAVEZPAMBA', 'PACCHA', 'MANTA (URBANO)',\n",
              "       'RIO TOACHI', 'BARBONES (SUCRE)', 'GONZANAMA',\n",
              "       'SANTA ANA DE VUELTA LARGA', 'NAYON', 'SANGOLQUI (URBANO)',\n",
              "       'SAN ANTONIO DE QUMBE (CUMBE)', 'LA MATRIZ', 'TAISHA',\n",
              "       'CHILLOGALLO', 'PUERTO NAPO', 'CHICA?A', 'EL CONDADO', 'TONSUPA',\n",
              "       'VALLADOLID', 'BORRERO', 'TULCAN (URBANO)', 'BERMEJOS',\n",
              "       'GUAYLLABAMBA', 'SAN PABLO DE TENTA', 'ELOY ALFARO (DURAN)',\n",
              "       'RIVERA', 'PILLARO (RURAL)', 'PILLARO (URBANO)', 'BOLIVAR',\n",
              "       'CAMILO PONCE', 'COTOCOLLAO', 'CHIGULPE', 'SAN ANDRES',\n",
              "       'CHIGUINDA', 'NUEVA LOJA', 'QUINARA', 'GUIZHAGUIÑA',\n",
              "       'JULIO E. MORENO (CATANAHUAN GRANDE)'], dtype=object)"
            ]
          },
          "metadata": {
            "tags": []
          },
          "execution_count": 31
        }
      ]
    },
    {
      "cell_type": "markdown",
      "metadata": {
        "id": "BJYkDmbLfVxM"
      },
      "source": [
        "# Preprocessing\n",
        "* dummies \n",
        "* ordinal encoder "
      ]
    },
    {
      "cell_type": "code",
      "metadata": {
        "id": "a7WNLxSTfVxN"
      },
      "source": [
        "encoded_df = useful_cols.copy()"
      ],
      "execution_count": null,
      "outputs": []
    },
    {
      "cell_type": "code",
      "metadata": {
        "id": "tf7sXjTgfVxa"
      },
      "source": [
        "cols_to_dummy = ['PCTE_SEXO', 'PCTE_IDE_GEN', 'PCTE_AUTID_ETN', 'PCTE_PUEBLO', 'PCTE_ORI_SEX']\n",
        "cols_to_encode = ['PCTE_NACIONALIDAD', 'PCTE_NAC_ETN', 'PCTE_SEG', 'PCTE_DES_CANT', 'PCTE_DES_PARR']\n",
        "\n",
        "dummy_cols = pd.get_dummies(encoded_df[cols_to_dummy], drop_first=False)\n",
        "dummy_cols.fillna(0)\n",
        "encoded_df.drop(cols_to_dummy, axis=1, inplace=True)\n",
        "\n",
        "ord_encoder = OrdinalEncoder()\n",
        "encoded_df[cols_to_encode] = ord_encoder.fit_transform(encoded_df[cols_to_encode])\n",
        "\n",
        "baseline_df = pd.concat([encoded_df, dummy_cols], axis=1)\n",
        "\n"
      ],
      "execution_count": null,
      "outputs": []
    },
    {
      "cell_type": "code",
      "metadata": {
        "id": "fia_rVh7fVxi",
        "colab": {
          "base_uri": "https://localhost:8080/",
          "height": 241
        },
        "outputId": "075607fb-0be9-4d25-bc16-96a55c7352aa"
      },
      "source": [
        "baseline_df.head()"
      ],
      "execution_count": null,
      "outputs": [
        {
          "output_type": "execute_result",
          "data": {
            "text/html": [
              "<div>\n",
              "<style scoped>\n",
              "    .dataframe tbody tr th:only-of-type {\n",
              "        vertical-align: middle;\n",
              "    }\n",
              "\n",
              "    .dataframe tbody tr th {\n",
              "        vertical-align: top;\n",
              "    }\n",
              "\n",
              "    .dataframe thead th {\n",
              "        text-align: right;\n",
              "    }\n",
              "</style>\n",
              "<table border=\"1\" class=\"dataframe\">\n",
              "  <thead>\n",
              "    <tr style=\"text-align: right;\">\n",
              "      <th></th>\n",
              "      <th>PCTE_NACIONALIDAD</th>\n",
              "      <th>PCTE_NAC_ETN</th>\n",
              "      <th>PCTE_SEG</th>\n",
              "      <th>PCTE_DES_CANT</th>\n",
              "      <th>PCTE_DES_PARR</th>\n",
              "      <th>target</th>\n",
              "      <th>PCTE_SEXO_Hombre</th>\n",
              "      <th>PCTE_SEXO_Mujer</th>\n",
              "      <th>PCTE_IDE_GEN_Femenino</th>\n",
              "      <th>PCTE_IDE_GEN_Masculino</th>\n",
              "      <th>PCTE_IDE_GEN_No info</th>\n",
              "      <th>PCTE_IDE_GEN_Transmasculino</th>\n",
              "      <th>PCTE_AUTID_ETN_Afroecuatoriano</th>\n",
              "      <th>PCTE_AUTID_ETN_Blanco</th>\n",
              "      <th>PCTE_AUTID_ETN_Indigena</th>\n",
              "      <th>PCTE_AUTID_ETN_Mestizo</th>\n",
              "      <th>PCTE_AUTID_ETN_Montubio</th>\n",
              "      <th>PCTE_AUTID_ETN_Mulato</th>\n",
              "      <th>PCTE_AUTID_ETN_Negro</th>\n",
              "      <th>PCTE_AUTID_ETN_No info</th>\n",
              "      <th>PCTE_PUEBLO_Kichwa Amazonico</th>\n",
              "      <th>PCTE_PUEBLO_No info</th>\n",
              "      <th>PCTE_PUEBLO_Otavalo</th>\n",
              "      <th>PCTE_PUEBLO_Puruha</th>\n",
              "      <th>PCTE_PUEBLO_Salasaka</th>\n",
              "      <th>PCTE_PUEBLO_Saraguro</th>\n",
              "      <th>PCTE_PUEBLO_Waramka</th>\n",
              "      <th>PCTE_ORI_SEX_Heterosexual</th>\n",
              "      <th>PCTE_ORI_SEX_Homossexual</th>\n",
              "      <th>PCTE_ORI_SEX_No info</th>\n",
              "    </tr>\n",
              "  </thead>\n",
              "  <tbody>\n",
              "    <tr>\n",
              "      <th>0</th>\n",
              "      <td>5.0</td>\n",
              "      <td>5.0</td>\n",
              "      <td>11.0</td>\n",
              "      <td>95.0</td>\n",
              "      <td>162.0</td>\n",
              "      <td>0</td>\n",
              "      <td>0</td>\n",
              "      <td>1</td>\n",
              "      <td>1</td>\n",
              "      <td>0</td>\n",
              "      <td>0</td>\n",
              "      <td>0</td>\n",
              "      <td>0</td>\n",
              "      <td>0</td>\n",
              "      <td>0</td>\n",
              "      <td>1</td>\n",
              "      <td>0</td>\n",
              "      <td>0</td>\n",
              "      <td>0</td>\n",
              "      <td>0</td>\n",
              "      <td>0</td>\n",
              "      <td>1</td>\n",
              "      <td>0</td>\n",
              "      <td>0</td>\n",
              "      <td>0</td>\n",
              "      <td>0</td>\n",
              "      <td>0</td>\n",
              "      <td>1</td>\n",
              "      <td>0</td>\n",
              "      <td>0</td>\n",
              "    </tr>\n",
              "    <tr>\n",
              "      <th>1</th>\n",
              "      <td>5.0</td>\n",
              "      <td>5.0</td>\n",
              "      <td>11.0</td>\n",
              "      <td>95.0</td>\n",
              "      <td>162.0</td>\n",
              "      <td>0</td>\n",
              "      <td>1</td>\n",
              "      <td>0</td>\n",
              "      <td>0</td>\n",
              "      <td>1</td>\n",
              "      <td>0</td>\n",
              "      <td>0</td>\n",
              "      <td>0</td>\n",
              "      <td>0</td>\n",
              "      <td>0</td>\n",
              "      <td>1</td>\n",
              "      <td>0</td>\n",
              "      <td>0</td>\n",
              "      <td>0</td>\n",
              "      <td>0</td>\n",
              "      <td>0</td>\n",
              "      <td>1</td>\n",
              "      <td>0</td>\n",
              "      <td>0</td>\n",
              "      <td>0</td>\n",
              "      <td>0</td>\n",
              "      <td>0</td>\n",
              "      <td>1</td>\n",
              "      <td>0</td>\n",
              "      <td>0</td>\n",
              "    </tr>\n",
              "    <tr>\n",
              "      <th>2</th>\n",
              "      <td>5.0</td>\n",
              "      <td>3.0</td>\n",
              "      <td>0.0</td>\n",
              "      <td>92.0</td>\n",
              "      <td>1.0</td>\n",
              "      <td>0</td>\n",
              "      <td>1</td>\n",
              "      <td>0</td>\n",
              "      <td>0</td>\n",
              "      <td>0</td>\n",
              "      <td>1</td>\n",
              "      <td>0</td>\n",
              "      <td>0</td>\n",
              "      <td>0</td>\n",
              "      <td>1</td>\n",
              "      <td>0</td>\n",
              "      <td>0</td>\n",
              "      <td>0</td>\n",
              "      <td>0</td>\n",
              "      <td>0</td>\n",
              "      <td>0</td>\n",
              "      <td>0</td>\n",
              "      <td>0</td>\n",
              "      <td>0</td>\n",
              "      <td>0</td>\n",
              "      <td>1</td>\n",
              "      <td>0</td>\n",
              "      <td>1</td>\n",
              "      <td>0</td>\n",
              "      <td>0</td>\n",
              "    </tr>\n",
              "    <tr>\n",
              "      <th>3</th>\n",
              "      <td>5.0</td>\n",
              "      <td>5.0</td>\n",
              "      <td>0.0</td>\n",
              "      <td>95.0</td>\n",
              "      <td>42.0</td>\n",
              "      <td>0</td>\n",
              "      <td>1</td>\n",
              "      <td>0</td>\n",
              "      <td>0</td>\n",
              "      <td>0</td>\n",
              "      <td>1</td>\n",
              "      <td>0</td>\n",
              "      <td>0</td>\n",
              "      <td>0</td>\n",
              "      <td>0</td>\n",
              "      <td>1</td>\n",
              "      <td>0</td>\n",
              "      <td>0</td>\n",
              "      <td>0</td>\n",
              "      <td>0</td>\n",
              "      <td>0</td>\n",
              "      <td>1</td>\n",
              "      <td>0</td>\n",
              "      <td>0</td>\n",
              "      <td>0</td>\n",
              "      <td>0</td>\n",
              "      <td>0</td>\n",
              "      <td>1</td>\n",
              "      <td>0</td>\n",
              "      <td>0</td>\n",
              "    </tr>\n",
              "    <tr>\n",
              "      <th>4</th>\n",
              "      <td>5.0</td>\n",
              "      <td>5.0</td>\n",
              "      <td>11.0</td>\n",
              "      <td>95.0</td>\n",
              "      <td>42.0</td>\n",
              "      <td>0</td>\n",
              "      <td>1</td>\n",
              "      <td>0</td>\n",
              "      <td>0</td>\n",
              "      <td>0</td>\n",
              "      <td>1</td>\n",
              "      <td>0</td>\n",
              "      <td>0</td>\n",
              "      <td>0</td>\n",
              "      <td>0</td>\n",
              "      <td>1</td>\n",
              "      <td>0</td>\n",
              "      <td>0</td>\n",
              "      <td>0</td>\n",
              "      <td>0</td>\n",
              "      <td>0</td>\n",
              "      <td>1</td>\n",
              "      <td>0</td>\n",
              "      <td>0</td>\n",
              "      <td>0</td>\n",
              "      <td>0</td>\n",
              "      <td>0</td>\n",
              "      <td>1</td>\n",
              "      <td>0</td>\n",
              "      <td>0</td>\n",
              "    </tr>\n",
              "  </tbody>\n",
              "</table>\n",
              "</div>"
            ],
            "text/plain": [
              "   PCTE_NACIONALIDAD  ...  PCTE_ORI_SEX_No info\n",
              "0                5.0  ...                     0\n",
              "1                5.0  ...                     0\n",
              "2                5.0  ...                     0\n",
              "3                5.0  ...                     0\n",
              "4                5.0  ...                     0\n",
              "\n",
              "[5 rows x 30 columns]"
            ]
          },
          "metadata": {
            "tags": []
          },
          "execution_count": 34
        }
      ]
    },
    {
      "cell_type": "code",
      "metadata": {
        "id": "RtgzsnflfVxq",
        "colab": {
          "base_uri": "https://localhost:8080/"
        },
        "outputId": "eee70332-d538-4d50-f5a5-8afe0c4601cf"
      },
      "source": [
        "baseline_df.columns"
      ],
      "execution_count": null,
      "outputs": [
        {
          "output_type": "execute_result",
          "data": {
            "text/plain": [
              "Index(['PCTE_NACIONALIDAD', 'PCTE_NAC_ETN', 'PCTE_SEG', 'PCTE_DES_CANT',\n",
              "       'PCTE_DES_PARR', 'target', 'PCTE_SEXO_Hombre', 'PCTE_SEXO_Mujer',\n",
              "       'PCTE_IDE_GEN_Femenino', 'PCTE_IDE_GEN_Masculino',\n",
              "       'PCTE_IDE_GEN_No info', 'PCTE_IDE_GEN_Transmasculino',\n",
              "       'PCTE_AUTID_ETN_Afroecuatoriano', 'PCTE_AUTID_ETN_Blanco',\n",
              "       'PCTE_AUTID_ETN_Indigena', 'PCTE_AUTID_ETN_Mestizo',\n",
              "       'PCTE_AUTID_ETN_Montubio', 'PCTE_AUTID_ETN_Mulato',\n",
              "       'PCTE_AUTID_ETN_Negro', 'PCTE_AUTID_ETN_No info',\n",
              "       'PCTE_PUEBLO_Kichwa Amazonico', 'PCTE_PUEBLO_No info',\n",
              "       'PCTE_PUEBLO_Otavalo', 'PCTE_PUEBLO_Puruha', 'PCTE_PUEBLO_Salasaka',\n",
              "       'PCTE_PUEBLO_Saraguro', 'PCTE_PUEBLO_Waramka',\n",
              "       'PCTE_ORI_SEX_Heterosexual', 'PCTE_ORI_SEX_Homossexual',\n",
              "       'PCTE_ORI_SEX_No info'],\n",
              "      dtype='object')"
            ]
          },
          "metadata": {
            "tags": []
          },
          "execution_count": 35
        }
      ]
    },
    {
      "cell_type": "markdown",
      "metadata": {
        "id": "C-z4cloEfVxy"
      },
      "source": [
        "\n",
        "\n",
        "```\n",
        "# Isto está formatado como código\n",
        "```\n",
        "\n",
        "# MODELOS\n",
        "\n",
        "* É um modelo básico, sem tuning que define o sucesso dos próximos passos"
      ]
    },
    {
      "cell_type": "code",
      "metadata": {
        "id": "vfprL5mlfVx0",
        "colab": {
          "base_uri": "https://localhost:8080/"
        },
        "outputId": "abca85e7-738a-486d-a01d-796318789a4a"
      },
      "source": [
        "Y = baseline_df.target\n",
        "X = baseline_df.drop(['target'], axis=1)\n",
        "\n",
        "X_train, X_test, Y_train, Y_test = train_test_split(X, Y, test_size=.2)\n",
        "\n",
        "X_train.shape, Y_train.shape"
      ],
      "execution_count": null,
      "outputs": [
        {
          "output_type": "execute_result",
          "data": {
            "text/plain": [
              "((16744, 29), (16744,))"
            ]
          },
          "metadata": {
            "tags": []
          },
          "execution_count": 58
        }
      ]
    },
    {
      "cell_type": "code",
      "metadata": {
        "id": "mDmABXd_fVyD",
        "colab": {
          "base_uri": "https://localhost:8080/"
        },
        "outputId": "44efb0a6-2dcd-4744-dbc9-9bb38f2ccf53"
      },
      "source": [
        "mdl1 = RandomForestClassifier(n_estimators=250, random_state=42)\n",
        "\n",
        "mdl1.fit(X_train, Y_train)"
      ],
      "execution_count": null,
      "outputs": [
        {
          "output_type": "execute_result",
          "data": {
            "text/plain": [
              "RandomForestClassifier(bootstrap=True, ccp_alpha=0.0, class_weight=None,\n",
              "                       criterion='gini', max_depth=None, max_features='auto',\n",
              "                       max_leaf_nodes=None, max_samples=None,\n",
              "                       min_impurity_decrease=0.0, min_impurity_split=None,\n",
              "                       min_samples_leaf=1, min_samples_split=2,\n",
              "                       min_weight_fraction_leaf=0.0, n_estimators=250,\n",
              "                       n_jobs=None, oob_score=False, random_state=42, verbose=0,\n",
              "                       warm_start=False)"
            ]
          },
          "metadata": {
            "tags": []
          },
          "execution_count": 59
        }
      ]
    },
    {
      "cell_type": "code",
      "metadata": {
        "id": "rq4-8YEPfVyT",
        "colab": {
          "base_uri": "https://localhost:8080/"
        },
        "outputId": "b134c007-6239-4009-9fbc-73dc10b1a33c"
      },
      "source": [
        "y_predforest = mdl1.predict(X_test)\n",
        "\n",
        "predictionsforest = [round(value) for value in y_predforest]\n",
        "\n",
        "accuracy = accuracy_score(Y_test, predictionsforest)\n",
        "print(\"Accuracy: %.2f%%\" % (accuracy * 100.0))\n"
      ],
      "execution_count": null,
      "outputs": [
        {
          "output_type": "stream",
          "text": [
            "Accuracy: 77.23%\n"
          ],
          "name": "stdout"
        }
      ]
    },
    {
      "cell_type": "markdown",
      "metadata": {
        "id": "Gnltz7O0JnsJ"
      },
      "source": [
        "#1 PROBLEMA: AS CLASSES ESTÃO DESBALANCEADAS\n",
        "\n",
        "* support 0 = 3.175\n",
        "* support 1 = 1.011 \n",
        "# Enorme diferença nas variáveis, elas estão desbalanceadas\n",
        "\n"
      ]
    },
    {
      "cell_type": "code",
      "metadata": {
        "id": "RYC7ov8MfVyb",
        "colab": {
          "base_uri": "https://localhost:8080/"
        },
        "outputId": "25ee4f16-0b92-4d4d-aaf6-e1249af7f05c"
      },
      "source": [
        "print(classification_report(Y_test, y_pred))\n",
        "\n",
        "#Classes estão desbalanceadas 1) support c 3175 classes 0 e 1011 classe 1 com f1-score 0.87 e 0.29 respectivamente"
      ],
      "execution_count": null,
      "outputs": [
        {
          "output_type": "stream",
          "text": [
            "              precision    recall  f1-score   support\n",
            "\n",
            "           0       0.78      0.97      0.86      3141\n",
            "           1       0.66      0.19      0.29      1045\n",
            "\n",
            "    accuracy                           0.77      4186\n",
            "   macro avg       0.72      0.58      0.58      4186\n",
            "weighted avg       0.75      0.77      0.72      4186\n",
            "\n"
          ],
          "name": "stdout"
        }
      ]
    },
    {
      "cell_type": "markdown",
      "metadata": {
        "id": "HoSV8k-YJm_g"
      },
      "source": [
        ""
      ]
    },
    {
      "cell_type": "code",
      "metadata": {
        "id": "k553n21ofVyj",
        "colab": {
          "base_uri": "https://localhost:8080/"
        },
        "outputId": "9f5465ff-75cf-4c34-d746-08dce9ecfb94"
      },
      "source": [
        "#MODELO GRADIENTBOOSTING\n",
        "\n",
        "!pip install catboost bayesian-optimization\n",
        "\n",
        "from itertools import product\n",
        "import numpy as np\n",
        "import pandas as pd\n",
        "import matplotlib.pyplot as plt\n",
        "import seaborn as sns\n",
        "\n",
        "from sklearn.metrics import mean_squared_error, mean_squared_log_error, r2_score\n",
        "from sklearn.model_selection import cross_val_score, cross_val_predict, KFold, RandomizedSearchCV\n",
        "from sklearn.preprocessing import MinMaxScaler, StandardScaler\n",
        "from sklearn.pipeline import make_pipeline\n",
        "\n",
        "from sklearn.ensemble import (RandomForestRegressor, GradientBoostingRegressor, \n",
        "                              BaggingRegressor, ExtraTreesRegressor)\n",
        "from sklearn.tree import DecisionTreeRegressor, ExtraTreeRegressor\n",
        "from sklearn.linear_model import Ridge\n",
        "\n",
        "import lightgbm as lgb\n",
        "import xgboost as xgb"
      ],
      "execution_count": null,
      "outputs": [
        {
          "output_type": "stream",
          "text": [
            "Requirement already satisfied: catboost in /usr/local/lib/python3.6/dist-packages (0.24.4)\n",
            "Requirement already satisfied: bayesian-optimization in /usr/local/lib/python3.6/dist-packages (1.2.0)\n",
            "Requirement already satisfied: six in /usr/local/lib/python3.6/dist-packages (from catboost) (1.15.0)\n",
            "Requirement already satisfied: matplotlib in /usr/local/lib/python3.6/dist-packages (from catboost) (3.2.2)\n",
            "Requirement already satisfied: numpy>=1.16.0 in /usr/local/lib/python3.6/dist-packages (from catboost) (1.19.4)\n",
            "Requirement already satisfied: graphviz in /usr/local/lib/python3.6/dist-packages (from catboost) (0.10.1)\n",
            "Requirement already satisfied: plotly in /usr/local/lib/python3.6/dist-packages (from catboost) (4.4.1)\n",
            "Requirement already satisfied: pandas>=0.24.0 in /usr/local/lib/python3.6/dist-packages (from catboost) (1.1.5)\n",
            "Requirement already satisfied: scipy in /usr/local/lib/python3.6/dist-packages (from catboost) (1.4.1)\n",
            "Requirement already satisfied: scikit-learn>=0.18.0 in /usr/local/lib/python3.6/dist-packages (from bayesian-optimization) (0.22.2.post1)\n",
            "Requirement already satisfied: pyparsing!=2.0.4,!=2.1.2,!=2.1.6,>=2.0.1 in /usr/local/lib/python3.6/dist-packages (from matplotlib->catboost) (2.4.7)\n",
            "Requirement already satisfied: python-dateutil>=2.1 in /usr/local/lib/python3.6/dist-packages (from matplotlib->catboost) (2.8.1)\n",
            "Requirement already satisfied: cycler>=0.10 in /usr/local/lib/python3.6/dist-packages (from matplotlib->catboost) (0.10.0)\n",
            "Requirement already satisfied: kiwisolver>=1.0.1 in /usr/local/lib/python3.6/dist-packages (from matplotlib->catboost) (1.3.1)\n",
            "Requirement already satisfied: retrying>=1.3.3 in /usr/local/lib/python3.6/dist-packages (from plotly->catboost) (1.3.3)\n",
            "Requirement already satisfied: pytz>=2017.2 in /usr/local/lib/python3.6/dist-packages (from pandas>=0.24.0->catboost) (2018.9)\n",
            "Requirement already satisfied: joblib>=0.11 in /usr/local/lib/python3.6/dist-packages (from scikit-learn>=0.18.0->bayesian-optimization) (1.0.0)\n"
          ],
          "name": "stdout"
        }
      ]
    },
    {
      "cell_type": "code",
      "metadata": {
        "colab": {
          "base_uri": "https://localhost:8080/"
        },
        "id": "V3t2EvWGIYb1",
        "outputId": "2afaa7a4-9081-4ca3-b15b-233f65cd6724"
      },
      "source": [
        "model2 = GradientBoostingRegressor(random_state=0)\n",
        "\n",
        "model2.fit(X_train, Y_train)\n",
        "\n"
      ],
      "execution_count": null,
      "outputs": [
        {
          "output_type": "execute_result",
          "data": {
            "text/plain": [
              "GradientBoostingRegressor(alpha=0.9, ccp_alpha=0.0, criterion='friedman_mse',\n",
              "                          init=None, learning_rate=0.1, loss='ls', max_depth=3,\n",
              "                          max_features=None, max_leaf_nodes=None,\n",
              "                          min_impurity_decrease=0.0, min_impurity_split=None,\n",
              "                          min_samples_leaf=1, min_samples_split=2,\n",
              "                          min_weight_fraction_leaf=0.0, n_estimators=100,\n",
              "                          n_iter_no_change=None, presort='deprecated',\n",
              "                          random_state=0, subsample=1.0, tol=0.0001,\n",
              "                          validation_fraction=0.1, verbose=0, warm_start=False)"
            ]
          },
          "metadata": {
            "tags": []
          },
          "execution_count": 72
        }
      ]
    },
    {
      "cell_type": "code",
      "metadata": {
        "colab": {
          "base_uri": "https://localhost:8080/"
        },
        "id": "bpmCtXm2JUnN",
        "outputId": "8c7e24fb-c5ed-4666-94e3-efe304f96435"
      },
      "source": [
        "scorecat =  model2.score(X_train, Y_train)\n",
        "print(\"Accuracy: %.2f%%\" % (scorecat * 100.0))\n",
        "\n"
      ],
      "execution_count": null,
      "outputs": [
        {
          "output_type": "stream",
          "text": [
            "Accuracy: 12.47%\n"
          ],
          "name": "stdout"
        }
      ]
    },
    {
      "cell_type": "code",
      "metadata": {
        "colab": {
          "base_uri": "https://localhost:8080/",
          "height": 475
        },
        "id": "MNM9TOMcJaD-",
        "outputId": "46c80578-de77-417f-b920-7ee2ead0b257"
      },
      "source": [
        "sns.heatmap(df.corr(), annot=True, linewidths=0.5, linecolor='black', cmap='Blues')\n",
        "plt.show()"
      ],
      "execution_count": null,
      "outputs": [
        {
          "output_type": "display_data",
          "data": {
            "image/png": "[encoded data removed]",
            "text/plain": [
              "<Figure size 432x288 with 2 Axes>"
            ]
          },
          "metadata": {
            "tags": [],
            "needs_background": "light"
          }
        }
      ]
    },
    {
      "cell_type": "markdown",
      "metadata": {
        "id": "uZyVdjJfM0cV"
      },
      "source": [
        "# MODELO 3 : XBOOST\n",
        "\n",
        "Após o resultado de 1\n",
        "\n"
      ]
    },
    {
      "cell_type": "code",
      "metadata": {
        "id": "41EA8U5QJnjz"
      },
      "source": [
        "import xgboost as xgb\n",
        "from numpy import loadtxt\n",
        "from xgboost import XGBClassifier\n",
        "from sklearn.metrics import accuracy_score"
      ],
      "execution_count": null,
      "outputs": []
    },
    {
      "cell_type": "code",
      "metadata": {
        "id": "ViGW5a5_KFZi",
        "colab": {
          "base_uri": "https://localhost:8080/"
        },
        "outputId": "3c745d01-743e-47d2-fef0-83fae993faee"
      },
      "source": [
        "model3 = XGBClassifier()\n",
        "model3.fit(X_train, Y_train)\n"
      ],
      "execution_count": null,
      "outputs": [
        {
          "output_type": "execute_result",
          "data": {
            "text/plain": [
              "XGBClassifier(base_score=0.5, booster='gbtree', colsample_bylevel=1,\n",
              "              colsample_bynode=1, colsample_bytree=1, gamma=0,\n",
              "              learning_rate=0.1, max_delta_step=0, max_depth=3,\n",
              "              min_child_weight=1, missing=None, n_estimators=100, n_jobs=1,\n",
              "              nthread=None, objective='binary:logistic', random_state=0,\n",
              "              reg_alpha=0, reg_lambda=1, scale_pos_weight=1, seed=None,\n",
              "              silent=None, subsample=1, verbosity=1)"
            ]
          },
          "metadata": {
            "tags": []
          },
          "execution_count": 66
        }
      ]
    },
    {
      "cell_type": "code",
      "metadata": {
        "colab": {
          "base_uri": "https://localhost:8080/"
        },
        "id": "z4R1UlkWLw2Z",
        "outputId": "e78e61d6-66d8-4633-bd22-857facc9af9e"
      },
      "source": [
        "y_pred = model3.predict(X_test)\n",
        "predictions = [round(value) for value in y_pred]\n",
        "\n",
        "accuracy = accuracy_score(Y_test, predictions)\n",
        "print(\"Accuracy: %.2f%%\" % (accuracy * 100.0))\n"
      ],
      "execution_count": null,
      "outputs": [
        {
          "output_type": "stream",
          "text": [
            "Accuracy: 75.54%\n"
          ],
          "name": "stdout"
        }
      ]
    },
    {
      "cell_type": "code",
      "metadata": {
        "id": "douyGYZdMMtL"
      },
      "source": [
        ""
      ],
      "execution_count": null,
      "outputs": []
    },
    {
      "cell_type": "markdown",
      "metadata": {
        "id": "5vLNEP8sQhTP"
      },
      "source": [
        "#Distribuição normal da variável mais importante "
      ]
    },
    {
      "cell_type": "code",
      "metadata": {
        "colab": {
          "base_uri": "https://localhost:8080/",
          "height": 197
        },
        "id": "RsUAaL8OMjM7",
        "outputId": "5577fb20-535f-45ef-cfae-ee7c8186ed5a"
      },
      "source": [
        "\n",
        "sns.distplot(np.log1p(df['PCTE_PESO']))\n",
        "plt.title('Distribuição normal')\n",
        "plt.show()"
      ],
      "execution_count": null,
      "outputs": [
        {
          "output_type": "error",
          "ename": "NameError",
          "evalue": "ignored",
          "traceback": [
            "\u001b[0;31m---------------------------------------------------------------------------\u001b[0m",
            "\u001b[0;31mNameError\u001b[0m                                 Traceback (most recent call last)",
            "\u001b[0;32m<ipython-input-1-4d920d8eaad6>\u001b[0m in \u001b[0;36m<module>\u001b[0;34m()\u001b[0m\n\u001b[0;32m----> 1\u001b[0;31m \u001b[0msns\u001b[0m\u001b[0;34m.\u001b[0m\u001b[0mdistplot\u001b[0m\u001b[0;34m(\u001b[0m\u001b[0mnp\u001b[0m\u001b[0;34m.\u001b[0m\u001b[0mlog1p\u001b[0m\u001b[0;34m(\u001b[0m\u001b[0mdf\u001b[0m\u001b[0;34m[\u001b[0m\u001b[0;34m'PCTE_PESO'\u001b[0m\u001b[0;34m]\u001b[0m\u001b[0;34m)\u001b[0m\u001b[0;34m)\u001b[0m\u001b[0;34m\u001b[0m\u001b[0;34m\u001b[0m\u001b[0m\n\u001b[0m\u001b[1;32m      2\u001b[0m \u001b[0mplt\u001b[0m\u001b[0;34m.\u001b[0m\u001b[0mtitle\u001b[0m\u001b[0;34m(\u001b[0m\u001b[0;34m'Distribuição normal'\u001b[0m\u001b[0;34m)\u001b[0m\u001b[0;34m\u001b[0m\u001b[0;34m\u001b[0m\u001b[0m\n\u001b[1;32m      3\u001b[0m \u001b[0mplt\u001b[0m\u001b[0;34m.\u001b[0m\u001b[0mshow\u001b[0m\u001b[0;34m(\u001b[0m\u001b[0;34m)\u001b[0m\u001b[0;34m\u001b[0m\u001b[0;34m\u001b[0m\u001b[0m\n",
            "\u001b[0;31mNameError\u001b[0m: name 'sns' is not defined"
          ]
        }
      ]
    },
    {
      "cell_type": "code",
      "metadata": {
        "id": "3xq-rpB9RVTy",
        "colab": {
          "base_uri": "https://localhost:8080/",
          "height": 299
        },
        "outputId": "04efa1c8-2bdf-4243-8e73-1212674cf4dc"
      },
      "source": [
        "from bayes_opt import BayesianOptimization"
      ],
      "execution_count": null,
      "outputs": [
        {
          "output_type": "error",
          "ename": "ModuleNotFoundError",
          "evalue": "ignored",
          "traceback": [
            "\u001b[0;31m---------------------------------------------------------------------------\u001b[0m",
            "\u001b[0;31mModuleNotFoundError\u001b[0m                       Traceback (most recent call last)",
            "\u001b[0;32m<ipython-input-2-93303b4629f3>\u001b[0m in \u001b[0;36m<module>\u001b[0;34m()\u001b[0m\n\u001b[0;32m----> 1\u001b[0;31m \u001b[0;32mfrom\u001b[0m \u001b[0mbayes_opt\u001b[0m \u001b[0;32mimport\u001b[0m \u001b[0mBayesianOptimization\u001b[0m\u001b[0;34m\u001b[0m\u001b[0;34m\u001b[0m\u001b[0m\n\u001b[0m",
            "\u001b[0;31mModuleNotFoundError\u001b[0m: No module named 'bayes_opt'",
            "",
            "\u001b[0;31m---------------------------------------------------------------------------\u001b[0;32m\nNOTE: If your import is failing due to a missing package, you can\nmanually install dependencies using either !pip or !apt.\n\nTo view examples of installing some common dependencies, click the\n\"Open Examples\" button below.\n\u001b[0;31m---------------------------------------------------------------------------\u001b[0m\n"
          ]
        }
      ]
    },
    {
      "cell_type": "code",
      "metadata": {
        "id": "utuM0fhEPYLq"
      },
      "source": [
        "def bayesion_opt_lgbm(X, Y, init_iter=3, n_iters=7, random_state=11, seed = 101, num_iterations = 100):\n",
        "  \n",
        "    dtrain = lgb.Dataset(data=X, label=Y)\n",
        "\n",
        "    def lgb_r2_score(preds, dtrain):\n",
        "        labels = dtrain.get_label()\n",
        "        return 'r2', r2_score(labels, preds), True\n",
        "\n",
        "    # Objective Function\n",
        "    def hyp_lgbm(num_leaves, feature_fraction, bagging_fraction, max_depth, min_split_gain, min_child_weight):\n",
        "\n",
        "        # Default parameters\n",
        "        params = {\n",
        "                'application':'regression',\n",
        "                'num_iterations': num_iterations,\n",
        "                'learning_rate':0.05, \n",
        "                'early_stopping_round':50,\n",
        "                'metric':'lgb_r2_score'\n",
        "        }\n",
        "\n",
        "        params[\"num_leaves\"] = int(round(num_leaves))\n",
        "        params['feature_fraction'] = max(min(feature_fraction, 1), 0)\n",
        "        params['bagging_fraction'] = max(min(bagging_fraction, 1), 0)\n",
        "        params['max_depth'] = int(round(max_depth))\n",
        "        params['min_split_gain'] = min_split_gain\n",
        "        params['min_child_weight'] = min_child_weight\n",
        "\n",
        "        cv_results = lgb.cv(params, dtrain, nfold=5, seed=seed,categorical_feature=[], \n",
        "                          stratified=False, verbose_eval =None, feval=lgb_r2_score)\n",
        "\n",
        "        return np.max(cv_results['r2-mean'])\n",
        "\n",
        "    # Domain space-- Range of hyperparameters \n",
        "    pds = {\n",
        "\n",
        "        'num_leaves': (80, 100),\n",
        "        'feature_fraction': (0.1, 0.9),\n",
        "        'bagging_fraction': (0.8, 1),\n",
        "        'max_depth': (17, 25),\n",
        "        'min_split_gain': (0.001, 0.1),\n",
        "        'min_child_weight': (10, 25)\n",
        "    }\n",
        "\n",
        "    # Surrogate model\n",
        "    optimizer = BayesianOptimization(hyp_lgbm, pds, random_state=random_state)\n",
        "\n",
        "    # Optimize\n",
        "    optimizer.maximize(init_points=init_iter, n_iter=n_iters)\n",
        "\n",
        "    return optimizer"
      ],
      "execution_count": null,
      "outputs": []
    },
    {
      "cell_type": "code",
      "metadata": {
        "id": "APHYTBeEQePq"
      },
      "source": [
        "results = bayesion_opt_lgbm(X.values, Y, init_iter=5, n_iters=10, random_state=77, seed=101, num_iterations=200)"
      ],
      "execution_count": null,
      "outputs": []
    },
    {
      "cell_type": "code",
      "metadata": {
        "id": "o_5WJtmnRoeh"
      },
      "source": [
        ""
      ],
      "execution_count": null,
      "outputs": []
    }
  ]
}