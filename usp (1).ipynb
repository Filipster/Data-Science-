{
  "nbformat": 4,
  "nbformat_minor": 0,
  "metadata": {
    "kernelspec": {
      "display_name": "Python 3",
      "language": "python",
      "name": "python3"
    },
    "language_info": {
      "codemirror_mode": {
        "name": "ipython",
        "version": 3
      },
      "file_extension": ".py",
      "mimetype": "text/x-python",
      "name": "python",
      "nbconvert_exporter": "python",
      "pygments_lexer": "ipython3",
      "version": "3.8.3"
    },
    "colab": {
      "name": "usp.ipynb",
      "provenance": []
    }
  },
  "cells": [
    {
      "cell_type": "markdown",
      "metadata": {
        "id": "9xMoPA2uBtKx"
      },
      "source": [
        "    Ano de fundação\n",
        "    em que estágio ela está\n",
        "    se tem internacionalização \n",
        "    e se já teve algum tipo de financiamento"
      ]
    },
    {
      "cell_type": "code",
      "metadata": {
        "id": "8_Fj7dxOBtK0"
      },
      "source": [
        "import numpy as np\n",
        "import pandas as pd\n",
        "import seaborn as sns\n",
        "import matplotlib.pyplot as plt\n",
        "\n",
        "import scipy.cluster.hierarchy as sch\n",
        "\n",
        "from category_encoders.one_hot import OneHotEncoder\n",
        "from sklearn.decomposition import KernelPCA, PCA, TruncatedSVD\n",
        "from sklearn.preprocessing import StandardScaler, MinMaxScaler\n",
        "from sklearn.cluster import KMeans, DBSCAN, AgglomerativeClustering"
      ],
      "execution_count": null,
      "outputs": []
    },
    {
      "cell_type": "code",
      "metadata": {
        "id": "TqenH-JLBtK5"
      },
      "source": [
        "%matplotlib inline\n",
        "sns.set()"
      ],
      "execution_count": null,
      "outputs": []
    },
    {
      "cell_type": "code",
      "metadata": {
        "id": "oSSgwj-MBtK-"
      },
      "source": [
        "df = pd.read_csv('statup.csv')"
      ],
      "execution_count": null,
      "outputs": []
    },
    {
      "cell_type": "code",
      "metadata": {
        "id": "U4y2QiKiBtLB"
      },
      "source": [
        "selected_cols1 = ['Ano de Fundação', 'Momento da Startup', 'Negocio no exterior', 'Capitação de recursos']\n",
        "selected_cols2 = ['Ano de Fundação', 'Momento da Startup', 'Tamanho da equipe', 'Area atuação', 'Negocio no exterior', 'Capitação de recursos', 'Porte', 'Público']"
      ],
      "execution_count": null,
      "outputs": []
    },
    {
      "cell_type": "code",
      "metadata": {
        "id": "RBfYl59MBtLE",
        "outputId": "236e8d5d-d028-4a97-fa23-04e38ec68305"
      },
      "source": [
        "df.sample(5)"
      ],
      "execution_count": null,
      "outputs": [
        {
          "output_type": "execute_result",
          "data": {
            "text/html": [
              "<div>\n",
              "<style scoped>\n",
              "    .dataframe tbody tr th:only-of-type {\n",
              "        vertical-align: middle;\n",
              "    }\n",
              "\n",
              "    .dataframe tbody tr th {\n",
              "        vertical-align: top;\n",
              "    }\n",
              "\n",
              "    .dataframe thead th {\n",
              "        text-align: right;\n",
              "    }\n",
              "</style>\n",
              "<table border=\"1\" class=\"dataframe\">\n",
              "  <thead>\n",
              "    <tr style=\"text-align: right;\">\n",
              "      <th></th>\n",
              "      <th>Startup</th>\n",
              "      <th>Ano de Fundação</th>\n",
              "      <th>Estado</th>\n",
              "      <th>Momento da Startup</th>\n",
              "      <th>Tamanho da equipe</th>\n",
              "      <th>Area atuação</th>\n",
              "      <th>Público alvo</th>\n",
              "      <th>Produto</th>\n",
              "      <th>Negocio no exterior</th>\n",
              "      <th>Capitação de recursos</th>\n",
              "      <th>Porte</th>\n",
              "      <th>Público</th>\n",
              "      <th>Descrição</th>\n",
              "    </tr>\n",
              "  </thead>\n",
              "  <tbody>\n",
              "    <tr>\n",
              "      <th>7946</th>\n",
              "      <td>Swisscam</td>\n",
              "      <td>2005</td>\n",
              "      <td>AC</td>\n",
              "      <td>Tração</td>\n",
              "      <td>7-11 pessoas</td>\n",
              "      <td>Mobtech</td>\n",
              "      <td>P2P</td>\n",
              "      <td>ferramenta para visualização de dados</td>\n",
              "      <td>sim</td>\n",
              "      <td>sim</td>\n",
              "      <td>Internacional</td>\n",
              "      <td>Fechado</td>\n",
              "      <td>Clube de networking, negócios e economia entre...</td>\n",
              "    </tr>\n",
              "    <tr>\n",
              "      <th>9400</th>\n",
              "      <td>Lide</td>\n",
              "      <td>2002</td>\n",
              "      <td>ES</td>\n",
              "      <td>Ideação</td>\n",
              "      <td>7-11 pessoas</td>\n",
              "      <td>Legaltech</td>\n",
              "      <td>B2C</td>\n",
              "      <td>classificador de tumor</td>\n",
              "      <td>não</td>\n",
              "      <td>não</td>\n",
              "      <td>Nacional</td>\n",
              "      <td>Fechado</td>\n",
              "      <td>Rede de networking e relações profissionais en...</td>\n",
              "    </tr>\n",
              "    <tr>\n",
              "      <th>1751</th>\n",
              "      <td>BNA group</td>\n",
              "      <td>2005</td>\n",
              "      <td>AL</td>\n",
              "      <td>Escala</td>\n",
              "      <td>4-6 pessoas</td>\n",
              "      <td>Mobiletech</td>\n",
              "      <td>P2P</td>\n",
              "      <td>classificador de tumor</td>\n",
              "      <td>sim</td>\n",
              "      <td>não</td>\n",
              "      <td>Multinacional</td>\n",
              "      <td>Aberto</td>\n",
              "      <td>empreendimento, vínculo com Itaú</td>\n",
              "    </tr>\n",
              "    <tr>\n",
              "      <th>958</th>\n",
              "      <td>ABF</td>\n",
              "      <td>2018</td>\n",
              "      <td>PA</td>\n",
              "      <td>Tração</td>\n",
              "      <td>12 pessoas</td>\n",
              "      <td>Logtech</td>\n",
              "      <td>B2B2C</td>\n",
              "      <td>ferramenta para visualização de dados</td>\n",
              "      <td>não</td>\n",
              "      <td>não</td>\n",
              "      <td>Multinacional</td>\n",
              "      <td>Fechado</td>\n",
              "      <td>Lions Clube com sócios de várias nacionalidade...</td>\n",
              "    </tr>\n",
              "    <tr>\n",
              "      <th>498</th>\n",
              "      <td>Câmara Espanhola</td>\n",
              "      <td>1994</td>\n",
              "      <td>GO</td>\n",
              "      <td>Ideação</td>\n",
              "      <td>12 pessoas</td>\n",
              "      <td>Agtech</td>\n",
              "      <td>P2P</td>\n",
              "      <td>Serviços de data science</td>\n",
              "      <td>não</td>\n",
              "      <td>sim</td>\n",
              "      <td>Multinacional</td>\n",
              "      <td>Empresas/Pessoa física</td>\n",
              "      <td>negócios Brasil - França</td>\n",
              "    </tr>\n",
              "  </tbody>\n",
              "</table>\n",
              "</div>"
            ],
            "text/plain": [
              "               Startup  Ano de Fundação Estado Momento da Startup  \\\n",
              "7946          Swisscam             2005     AC             Tração   \n",
              "9400              Lide             2002     ES            Ideação   \n",
              "1751         BNA group             2005     AL             Escala   \n",
              "958                ABF             2018     PA             Tração   \n",
              "498   Câmara Espanhola             1994     GO            Ideação   \n",
              "\n",
              "     Tamanho da equipe Area atuação Público alvo  \\\n",
              "7946      7-11 pessoas      Mobtech          P2P   \n",
              "9400      7-11 pessoas    Legaltech          B2C   \n",
              "1751       4-6 pessoas   Mobiletech          P2P   \n",
              "958         12 pessoas      Logtech        B2B2C   \n",
              "498         12 pessoas       Agtech          P2P   \n",
              "\n",
              "                                    Produto Negocio no exterior  \\\n",
              "7946  ferramenta para visualização de dados                 sim   \n",
              "9400                 classificador de tumor                 não   \n",
              "1751                 classificador de tumor                 sim   \n",
              "958   ferramenta para visualização de dados                 não   \n",
              "498                Serviços de data science                 não   \n",
              "\n",
              "     Capitação de recursos          Porte                 Público  \\\n",
              "7946                   sim  Internacional                 Fechado   \n",
              "9400                   não       Nacional                 Fechado   \n",
              "1751                   não  Multinacional                  Aberto   \n",
              "958                    não  Multinacional                Fechado    \n",
              "498                    sim  Multinacional  Empresas/Pessoa física   \n",
              "\n",
              "                                              Descrição  \n",
              "7946  Clube de networking, negócios e economia entre...  \n",
              "9400  Rede de networking e relações profissionais en...  \n",
              "1751                   empreendimento, vínculo com Itaú  \n",
              "958   Lions Clube com sócios de várias nacionalidade...  \n",
              "498                            negócios Brasil - França  "
            ]
          },
          "metadata": {
            "tags": []
          },
          "execution_count": 5
        }
      ]
    },
    {
      "cell_type": "code",
      "metadata": {
        "id": "Evx4wdZvBtLJ",
        "outputId": "0af0ae75-efa9-4ef4-8397-d6b81c00087b"
      },
      "source": [
        "df.info()"
      ],
      "execution_count": null,
      "outputs": [
        {
          "output_type": "stream",
          "text": [
            "<class 'pandas.core.frame.DataFrame'>\n",
            "RangeIndex: 10000 entries, 0 to 9999\n",
            "Data columns (total 13 columns):\n",
            " #   Column                 Non-Null Count  Dtype \n",
            "---  ------                 --------------  ----- \n",
            " 0   Startup                10000 non-null  object\n",
            " 1   Ano de Fundação        10000 non-null  int64 \n",
            " 2   Estado                 10000 non-null  object\n",
            " 3   Momento da Startup     10000 non-null  object\n",
            " 4   Tamanho da equipe      10000 non-null  object\n",
            " 5   Area atuação           10000 non-null  object\n",
            " 6   Público alvo           10000 non-null  object\n",
            " 7   Produto                10000 non-null  object\n",
            " 8   Negocio no exterior    10000 non-null  object\n",
            " 9   Capitação de recursos  10000 non-null  object\n",
            " 10  Porte                  10000 non-null  object\n",
            " 11  Público                10000 non-null  object\n",
            " 12  Descrição              9770 non-null   object\n",
            "dtypes: int64(1), object(12)\n",
            "memory usage: 1015.8+ KB\n"
          ],
          "name": "stdout"
        }
      ]
    },
    {
      "cell_type": "code",
      "metadata": {
        "id": "SQXYsGfMBtLT",
        "outputId": "ae7a2e70-2d56-414e-ff1c-779cf4a85581"
      },
      "source": [
        "cols = df.columns\n",
        "for col in cols:\n",
        "    print(f'<><><><><><><><><><><><><><>{col}<><><><><><><><><><><><><><><><<>')\n",
        "    print(df[col].value_counts(normalize=True))\n",
        "    print(f'<><><><><><><><><><><><><><><><><><><><><><><><><><><><><><<>\\n\\n')"
      ],
      "execution_count": null,
      "outputs": [
        {
          "output_type": "stream",
          "text": [
            "<><><><><><><><><><><><><><>Startup<><><><><><><><><><><><><><><><<>\n",
            "Dubai Chamber                             0.0242\n",
            "Meepe                                     0.0235\n",
            "EBS Buyer's Club                          0.0233\n",
            "BNI Brasil                                0.0228\n",
            "Cubo Itaú                                 0.0220\n",
            "ICC World                                 0.0217\n",
            "Amcham Mundo                              0.0216\n",
            "Brown's Club                              0.0215\n",
            "ICC Brazil                                0.0215\n",
            "WTC                                       0.0214\n",
            "Clube do Networking                       0.0212\n",
            "Quemfornece.com                           0.0212\n",
            "FSB Club                                  0.0210\n",
            "WTC Curitiba                              0.0209\n",
            "ABAG                                      0.0209\n",
            "ABIT                                      0.0208\n",
            "Experience Club                           0.0208\n",
            "Rotaract Club Europe                      0.0207\n",
            "CSR Europe                                0.0207\n",
            "WTC Club SP                               0.0206\n",
            "Industry Rockstar                         0.0205\n",
            "Entrepreneurs' Organization               0.0205\n",
            "CCI França-Brasil                         0.0205\n",
            "Consulting House                          0.0203\n",
            "Rede Kai                                  0.0200\n",
            "Efmdglobal                                0.0200\n",
            "ABF                                       0.0199\n",
            "Business Club Itália                      0.0198\n",
            "European Business Club Poland             0.0195\n",
            "Harvard Business School Club of Brazil    0.0194\n",
            "Swisscam                                  0.0194\n",
            "Camara Portuguesa                         0.0191\n",
            "Câmara Espanhola                          0.0190\n",
            "FR Club                                   0.0189\n",
            "Oslo Chamber of commerce                  0.0189\n",
            "Britcham                                  0.0189\n",
            "Cambridgewhoswho                          0.0189\n",
            "British-Swiss chamber of commerce         0.0187\n",
            "AHK                                       0.0187\n",
            "Euroexpress                               0.0187\n",
            "ACSP                                      0.0184\n",
            "Lide                                      0.0184\n",
            "AGCB                                      0.0183\n",
            "BNA group                                 0.0181\n",
            "Swedcham                                  0.0180\n",
            "VL gruppen                                0.0180\n",
            "Amcham Brasil                             0.0179\n",
            "Lions Club Bruxelas                       0.0177\n",
            "ABIMO                                     0.0168\n",
            "BNI                                       0.0165\n",
            "Name: Startup, dtype: float64\n",
            "<><><><><><><><><><><><><><><><><><><><><><><><><><><><><><<>\n",
            "\n",
            "\n",
            "<><><><><><><><><><><><><><>Ano de Fundação<><><><><><><><><><><><><><><><<>\n",
            "2012    0.0475\n",
            "1993    0.0470\n",
            "2018    0.0463\n",
            "2020    0.0459\n",
            "2016    0.0452\n",
            "2015    0.0451\n",
            "1994    0.0448\n",
            "2000    0.0447\n",
            "2006    0.0443\n",
            "1997    0.0442\n",
            "1998    0.0430\n",
            "2013    0.0427\n",
            "1995    0.0427\n",
            "2004    0.0425\n",
            "2002    0.0424\n",
            "2010    0.0420\n",
            "2014    0.0419\n",
            "2001    0.0417\n",
            "1999    0.0417\n",
            "2007    0.0416\n",
            "2017    0.0416\n",
            "2003    0.0412\n",
            "2005    0.0400\n",
            "Name: Ano de Fundação, dtype: float64\n",
            "<><><><><><><><><><><><><><><><><><><><><><><><><><><><><><<>\n",
            "\n",
            "\n",
            "<><><><><><><><><><><><><><>Estado<><><><><><><><><><><><><><><><<>\n",
            "MG    0.0481\n",
            "CE    0.0474\n",
            "RN    0.0474\n",
            "SE    0.0472\n",
            "PA    0.0467\n",
            "RJ    0.0467\n",
            "ES    0.0465\n",
            "MS    0.0465\n",
            "MA    0.0464\n",
            "PI    0.0464\n",
            "PR    0.0461\n",
            "TO    0.0458\n",
            "PB    0.0455\n",
            "SP    0.0454\n",
            "AM    0.0451\n",
            "MT    0.0446\n",
            "DF    0.0443\n",
            "RS    0.0442\n",
            "AL    0.0435\n",
            "BA    0.0426\n",
            "AC    0.0424\n",
            "GO    0.0412\n",
            "Name: Estado, dtype: float64\n",
            "<><><><><><><><><><><><><><><><><><><><><><><><><><><><><><<>\n",
            "\n",
            "\n",
            "<><><><><><><><><><><><><><>Momento da Startup<><><><><><><><><><><><><><><><<>\n",
            "Tração       0.2069\n",
            "Ideação      0.2049\n",
            "Validação    0.1994\n",
            "Operação     0.1956\n",
            "Escala       0.1932\n",
            "Name: Momento da Startup, dtype: float64\n",
            "<><><><><><><><><><><><><><><><><><><><><><><><><><><><><><<>\n",
            "\n",
            "\n",
            "<><><><><><><><><><><><><><>Tamanho da equipe<><><><><><><><><><><><><><><><<>\n",
            "12 pessoas      0.2518\n",
            "7-11 pessoas    0.2517\n",
            "1-3 pessoas     0.2493\n",
            "4-6 pessoas     0.2472\n",
            "Name: Tamanho da equipe, dtype: float64\n",
            "<><><><><><><><><><><><><><><><><><><><><><><><><><><><><><<>\n",
            "\n",
            "\n",
            "<><><><><><><><><><><><><><>Area atuação<><><><><><><><><><><><><><><><<>\n",
            "Medtech        0.0956\n",
            "Agtech         0.0944\n",
            "Turismtech     0.0921\n",
            "Fintech        0.0920\n",
            "Construtech    0.0916\n",
            "Legaltech      0.0912\n",
            "Logtech        0.0896\n",
            "Foodtech       0.0892\n",
            "Mobiletech     0.0891\n",
            "Mobtech        0.0885\n",
            "Edtech         0.0867\n",
            "Name: Area atuação, dtype: float64\n",
            "<><><><><><><><><><><><><><><><><><><><><><><><><><><><><><<>\n",
            "\n",
            "\n",
            "<><><><><><><><><><><><><><>Público alvo<><><><><><><><><><><><><><><><<>\n",
            "B2B2C    0.1731\n",
            "P2P      0.1675\n",
            "B2C      0.1665\n",
            "B2S      0.1655\n",
            "B2B      0.1655\n",
            "B2G      0.1619\n",
            "Name: Público alvo, dtype: float64\n",
            "<><><><><><><><><><><><><><><><><><><><><><><><><><><><><><<>\n",
            "\n",
            "\n",
            "<><><><><><><><><><><><><><>Produto<><><><><><><><><><><><><><><><<>\n",
            "ferramenta para visualização de dados    0.3377\n",
            "classificador de tumor                   0.3365\n",
            "Serviços de data science                 0.3258\n",
            "Name: Produto, dtype: float64\n",
            "<><><><><><><><><><><><><><><><><><><><><><><><><><><><><><<>\n",
            "\n",
            "\n",
            "<><><><><><><><><><><><><><>Negocio no exterior<><><><><><><><><><><><><><><><<>\n",
            "sim    0.5048\n",
            "não    0.4952\n",
            "Name: Negocio no exterior, dtype: float64\n",
            "<><><><><><><><><><><><><><><><><><><><><><><><><><><><><><<>\n",
            "\n",
            "\n",
            "<><><><><><><><><><><><><><>Capitação de recursos<><><><><><><><><><><><><><><><<>\n",
            "sim    0.5041\n",
            "não    0.4959\n",
            "Name: Capitação de recursos, dtype: float64\n",
            "<><><><><><><><><><><><><><><><><><><><><><><><><><><><><><<>\n",
            "\n",
            "\n",
            "<><><><><><><><><><><><><><>Porte<><><><><><><><><><><><><><><><<>\n",
            "Internacional    0.3420\n",
            "Nacional         0.3298\n",
            "Multinacional    0.3282\n",
            "Name: Porte, dtype: float64\n",
            "<><><><><><><><><><><><><><><><><><><><><><><><><><><><><><<>\n",
            "\n",
            "\n",
            "<><><><><><><><><><><><><><>Público<><><><><><><><><><><><><><><><<>\n",
            "Fechado                   0.1307\n",
            "fechado                   0.1279\n",
            "Fechado                   0.1263\n",
            "Aberto                    0.1243\n",
            "Empresas/Pessoa física    0.1235\n",
            "aberto                    0.1226\n",
            "Pessoa física             0.1226\n",
            "Empresas                  0.1221\n",
            "Name: Público, dtype: float64\n",
            "<><><><><><><><><><><><><><><><><><><><><><><><><><><><><><<>\n",
            "\n",
            "\n",
            "<><><><><><><><><><><><><><>Descrição<><><><><><><><><><><><><><><><<>\n",
            "negócios Brasil - França                                                                                                   0.027021\n",
            "Rede de negócios oferece o reconhecimento, a competitividade e o networking necessários em todos os negócios.              0.026305\n",
            "atende curitiba e o sul do Brasil como um todo com mais 3 unidades regionais                                               0.025998\n",
            "Organização aberta a todos, que se preocupam com a promoção dos negócios, empreendedorismo, economia,etc.                  0.025998\n",
            "Rede de networking e relações profissionais entre os membros ativos re outros prestadores de serviços                      0.025691\n",
            "parece algo novo                                                                                                           0.025281\n",
            "cena italiana em relação a questões de natureza econômica, cultural, política e acadêmica                                  0.025077\n",
            "negócios e vida pessoal por meio de conexões que melhoram sua vida                                                         0.024872\n",
            "Lions Clube com sócios de várias nacionalidades, cuja vocação é ajudar os menos afortunados do que eles                    0.024872\n",
            "Segmentação, 4 CLUBS                                                                                                       0.024770\n",
            "empreendimento, vínculo com Itaú                                                                                           0.024667\n",
            "negócios Brasil - Suiça                                                                                                    0.024667\n",
            "Cadeira na ONU, G20, Incoterms - Camara de Comercio \"Global\"                                                               0.024565\n",
            "modelo de sucesso em Referall, metodologia própria de win-win.                                                             0.024565\n",
            "associação comercial                                                                                                       0.024360\n",
            "portal de conexões                                                                                                         0.024360\n",
            "negócios Brasil - UK                                                                                                       0.024258\n",
            "O objetivo da empresa é promover o conhecimento e a compreensão dos modernos princípios de gestão                          0.024258\n",
            "desempenha um papel importante na transformação do mercado global em realidade.                                            0.024156\n",
            "Club Segmentado, 80 eventos por ano                                                                                        0.024156\n",
            "Clube de negócios entre frança e Rússia                                                                                    0.024053\n",
            "Filiais em vários países no mundo cujo o objetivo é investir na sociedade e desenvolvimento                                0.024053\n",
            "lançamento                                                                                                                 0.023849\n",
            "Modelos como Lide Futuro e Lide Mulher, comites segmentados pro prática/setor                                              0.023849\n",
            "pequeno, interior de sp                                                                                                    0.023849\n",
            "uma organização de serviços independente para a comunidade empresarial de Oslo                                             0.023746\n",
            "portal de conteúdo, pouca info divulgada                                                                                   0.023644\n",
            "organização global, sem fins lucrativos, voltada para membros, dedicada ao desenvolvimento de gestão                       0.023644\n",
            "parece estar estacionado                                                                                                   0.023644\n",
            "modelo de negócio em Licença de marca, cada cidade \"tem um dono\", desde uma empresa privada até uma Camara de Comércio     0.023337\n",
            "Uma rede de negócios independente que inclui a maioria das principais empresas do Reino Unido e Suíça.                     0.023234\n",
            "Rede Europeia de Negócios para Sustentabilidade e Responsabilidade Corporativa                                             0.023234\n",
            "Rede de negócios entre instituições do governo e empresas privadas em Dubai                                                0.023234\n",
            "associação de classe                                                                                                       0.022723\n",
            "negócios brasil Alemanha                                                                                                   0.022211\n",
            "maior CC do mundo, bilateral mas com fomentos de negócios locais                                                           0.021699\n",
            "específica do setor HORECA / MICE                                                                                          0.021597\n",
            "Clube de networking, negócios e economia entre eslovênia e França                                                          0.021597\n",
            "negócios brasil-espanha                                                                                                    0.021597\n",
            "Globalize seu negócio e impacte o mundo                                                                                    0.021187\n",
            "Este clube profissional e de negócios tem membros de todas as nacionalidades que promovem a rede internacional.            0.020266\n",
            "alumni                                                                                                                     0.019857\n",
            "Name: Descrição, dtype: float64\n",
            "<><><><><><><><><><><><><><><><><><><><><><><><><><><><><><<>\n",
            "\n",
            "\n"
          ],
          "name": "stdout"
        }
      ]
    },
    {
      "cell_type": "markdown",
      "metadata": {
        "id": "CRHKaJMbBtLd"
      },
      "source": [
        "### Feature Engineering"
      ]
    },
    {
      "cell_type": "code",
      "metadata": {
        "id": "IBg05CCABtLe"
      },
      "source": [
        "data = df[selected_cols1].copy()\n",
        "data1 = df[selected_cols2].copy()"
      ],
      "execution_count": null,
      "outputs": []
    },
    {
      "cell_type": "markdown",
      "metadata": {
        "id": "_dBIxHTKBtLh"
      },
      "source": [
        "### Variáveis Quantitativas"
      ]
    },
    {
      "cell_type": "code",
      "metadata": {
        "id": "XIotfPbgBtLi"
      },
      "source": [
        "scaler = MinMaxScaler()\n",
        "scaler.fit(data1['Ano de Fundação'].values.reshape(-1, 1))\n",
        "\n",
        "data1['Ano de Fundação'] = scaler.transform(data1['Ano de Fundação'].values.reshape(-1, 1))"
      ],
      "execution_count": null,
      "outputs": []
    },
    {
      "cell_type": "markdown",
      "metadata": {
        "id": "IOSXLEZIBtLl"
      },
      "source": [
        "### Variáveis Qualitativas"
      ]
    },
    {
      "cell_type": "code",
      "metadata": {
        "id": "CFLIOYKbBtLm"
      },
      "source": [
        "data1['Negocio no exterior'] = data1['Negocio no exterior'].map({'sim': 1, 'não': 0})\n",
        "data1['Capitação de recursos'] = data1['Capitação de recursos'].map({'sim': 1, 'não': 0})"
      ],
      "execution_count": null,
      "outputs": []
    },
    {
      "cell_type": "code",
      "metadata": {
        "id": "BAkM6P7zBtLp"
      },
      "source": [
        "encoder = OneHotEncoder(use_cat_names=True)\n",
        "encoder.fit(data1.select_dtypes(include=np.object))\n",
        "data_encoder = encoder.transform(data1.select_dtypes(include=np.object))"
      ],
      "execution_count": null,
      "outputs": []
    },
    {
      "cell_type": "code",
      "metadata": {
        "id": "7cR4YERBBtLs"
      },
      "source": [
        "preprocessed = pd.concat([data1.select_dtypes(include=np.number), data_encoder], axis=1).reset_index(drop=True)"
      ],
      "execution_count": null,
      "outputs": []
    },
    {
      "cell_type": "code",
      "metadata": {
        "id": "HHSErejCBtLx",
        "outputId": "dc333aed-e0d3-434e-a8e1-1bdaf51acb97"
      },
      "source": [
        "preprocessed"
      ],
      "execution_count": null,
      "outputs": [
        {
          "output_type": "execute_result",
          "data": {
            "text/html": [
              "<div>\n",
              "<style scoped>\n",
              "    .dataframe tbody tr th:only-of-type {\n",
              "        vertical-align: middle;\n",
              "    }\n",
              "\n",
              "    .dataframe tbody tr th {\n",
              "        vertical-align: top;\n",
              "    }\n",
              "\n",
              "    .dataframe thead th {\n",
              "        text-align: right;\n",
              "    }\n",
              "</style>\n",
              "<table border=\"1\" class=\"dataframe\">\n",
              "  <thead>\n",
              "    <tr style=\"text-align: right;\">\n",
              "      <th></th>\n",
              "      <th>Ano de Fundação</th>\n",
              "      <th>Negocio no exterior</th>\n",
              "      <th>Capitação de recursos</th>\n",
              "      <th>Momento da Startup_Validação</th>\n",
              "      <th>Momento da Startup_Escala</th>\n",
              "      <th>Momento da Startup_Ideação</th>\n",
              "      <th>Momento da Startup_Operação</th>\n",
              "      <th>Momento da Startup_Tração</th>\n",
              "      <th>Tamanho da equipe_12 pessoas</th>\n",
              "      <th>Tamanho da equipe_1-3 pessoas</th>\n",
              "      <th>...</th>\n",
              "      <th>Porte_Nacional</th>\n",
              "      <th>Porte_Multinacional</th>\n",
              "      <th>Público_Empresas/Pessoa física</th>\n",
              "      <th>Público_fechado</th>\n",
              "      <th>Público_Fechado</th>\n",
              "      <th>Público_Pessoa física</th>\n",
              "      <th>Público_Fechado</th>\n",
              "      <th>Público_Aberto</th>\n",
              "      <th>Público_Empresas</th>\n",
              "      <th>Público_aberto</th>\n",
              "    </tr>\n",
              "  </thead>\n",
              "  <tbody>\n",
              "    <tr>\n",
              "      <th>0</th>\n",
              "      <td>0.185185</td>\n",
              "      <td>1</td>\n",
              "      <td>1</td>\n",
              "      <td>1</td>\n",
              "      <td>0</td>\n",
              "      <td>0</td>\n",
              "      <td>0</td>\n",
              "      <td>0</td>\n",
              "      <td>1</td>\n",
              "      <td>0</td>\n",
              "      <td>...</td>\n",
              "      <td>0</td>\n",
              "      <td>0</td>\n",
              "      <td>1</td>\n",
              "      <td>0</td>\n",
              "      <td>0</td>\n",
              "      <td>0</td>\n",
              "      <td>0</td>\n",
              "      <td>0</td>\n",
              "      <td>0</td>\n",
              "      <td>0</td>\n",
              "    </tr>\n",
              "    <tr>\n",
              "      <th>1</th>\n",
              "      <td>0.777778</td>\n",
              "      <td>0</td>\n",
              "      <td>1</td>\n",
              "      <td>0</td>\n",
              "      <td>1</td>\n",
              "      <td>0</td>\n",
              "      <td>0</td>\n",
              "      <td>0</td>\n",
              "      <td>0</td>\n",
              "      <td>1</td>\n",
              "      <td>...</td>\n",
              "      <td>1</td>\n",
              "      <td>0</td>\n",
              "      <td>0</td>\n",
              "      <td>1</td>\n",
              "      <td>0</td>\n",
              "      <td>0</td>\n",
              "      <td>0</td>\n",
              "      <td>0</td>\n",
              "      <td>0</td>\n",
              "      <td>0</td>\n",
              "    </tr>\n",
              "    <tr>\n",
              "      <th>2</th>\n",
              "      <td>0.333333</td>\n",
              "      <td>1</td>\n",
              "      <td>0</td>\n",
              "      <td>1</td>\n",
              "      <td>0</td>\n",
              "      <td>0</td>\n",
              "      <td>0</td>\n",
              "      <td>0</td>\n",
              "      <td>0</td>\n",
              "      <td>0</td>\n",
              "      <td>...</td>\n",
              "      <td>1</td>\n",
              "      <td>0</td>\n",
              "      <td>0</td>\n",
              "      <td>0</td>\n",
              "      <td>1</td>\n",
              "      <td>0</td>\n",
              "      <td>0</td>\n",
              "      <td>0</td>\n",
              "      <td>0</td>\n",
              "      <td>0</td>\n",
              "    </tr>\n",
              "    <tr>\n",
              "      <th>3</th>\n",
              "      <td>0.851852</td>\n",
              "      <td>0</td>\n",
              "      <td>1</td>\n",
              "      <td>1</td>\n",
              "      <td>0</td>\n",
              "      <td>0</td>\n",
              "      <td>0</td>\n",
              "      <td>0</td>\n",
              "      <td>0</td>\n",
              "      <td>0</td>\n",
              "      <td>...</td>\n",
              "      <td>0</td>\n",
              "      <td>1</td>\n",
              "      <td>0</td>\n",
              "      <td>1</td>\n",
              "      <td>0</td>\n",
              "      <td>0</td>\n",
              "      <td>0</td>\n",
              "      <td>0</td>\n",
              "      <td>0</td>\n",
              "      <td>0</td>\n",
              "    </tr>\n",
              "    <tr>\n",
              "      <th>4</th>\n",
              "      <td>0.074074</td>\n",
              "      <td>1</td>\n",
              "      <td>1</td>\n",
              "      <td>1</td>\n",
              "      <td>0</td>\n",
              "      <td>0</td>\n",
              "      <td>0</td>\n",
              "      <td>0</td>\n",
              "      <td>0</td>\n",
              "      <td>1</td>\n",
              "      <td>...</td>\n",
              "      <td>0</td>\n",
              "      <td>0</td>\n",
              "      <td>0</td>\n",
              "      <td>0</td>\n",
              "      <td>1</td>\n",
              "      <td>0</td>\n",
              "      <td>0</td>\n",
              "      <td>0</td>\n",
              "      <td>0</td>\n",
              "      <td>0</td>\n",
              "    </tr>\n",
              "    <tr>\n",
              "      <th>...</th>\n",
              "      <td>...</td>\n",
              "      <td>...</td>\n",
              "      <td>...</td>\n",
              "      <td>...</td>\n",
              "      <td>...</td>\n",
              "      <td>...</td>\n",
              "      <td>...</td>\n",
              "      <td>...</td>\n",
              "      <td>...</td>\n",
              "      <td>...</td>\n",
              "      <td>...</td>\n",
              "      <td>...</td>\n",
              "      <td>...</td>\n",
              "      <td>...</td>\n",
              "      <td>...</td>\n",
              "      <td>...</td>\n",
              "      <td>...</td>\n",
              "      <td>...</td>\n",
              "      <td>...</td>\n",
              "      <td>...</td>\n",
              "      <td>...</td>\n",
              "    </tr>\n",
              "    <tr>\n",
              "      <th>9995</th>\n",
              "      <td>0.814815</td>\n",
              "      <td>0</td>\n",
              "      <td>1</td>\n",
              "      <td>0</td>\n",
              "      <td>0</td>\n",
              "      <td>0</td>\n",
              "      <td>0</td>\n",
              "      <td>1</td>\n",
              "      <td>0</td>\n",
              "      <td>1</td>\n",
              "      <td>...</td>\n",
              "      <td>0</td>\n",
              "      <td>1</td>\n",
              "      <td>0</td>\n",
              "      <td>0</td>\n",
              "      <td>0</td>\n",
              "      <td>1</td>\n",
              "      <td>0</td>\n",
              "      <td>0</td>\n",
              "      <td>0</td>\n",
              "      <td>0</td>\n",
              "    </tr>\n",
              "    <tr>\n",
              "      <th>9996</th>\n",
              "      <td>1.000000</td>\n",
              "      <td>1</td>\n",
              "      <td>1</td>\n",
              "      <td>1</td>\n",
              "      <td>0</td>\n",
              "      <td>0</td>\n",
              "      <td>0</td>\n",
              "      <td>0</td>\n",
              "      <td>0</td>\n",
              "      <td>0</td>\n",
              "      <td>...</td>\n",
              "      <td>1</td>\n",
              "      <td>0</td>\n",
              "      <td>0</td>\n",
              "      <td>0</td>\n",
              "      <td>1</td>\n",
              "      <td>0</td>\n",
              "      <td>0</td>\n",
              "      <td>0</td>\n",
              "      <td>0</td>\n",
              "      <td>0</td>\n",
              "    </tr>\n",
              "    <tr>\n",
              "      <th>9997</th>\n",
              "      <td>0.000000</td>\n",
              "      <td>1</td>\n",
              "      <td>0</td>\n",
              "      <td>1</td>\n",
              "      <td>0</td>\n",
              "      <td>0</td>\n",
              "      <td>0</td>\n",
              "      <td>0</td>\n",
              "      <td>0</td>\n",
              "      <td>1</td>\n",
              "      <td>...</td>\n",
              "      <td>1</td>\n",
              "      <td>0</td>\n",
              "      <td>0</td>\n",
              "      <td>1</td>\n",
              "      <td>0</td>\n",
              "      <td>0</td>\n",
              "      <td>0</td>\n",
              "      <td>0</td>\n",
              "      <td>0</td>\n",
              "      <td>0</td>\n",
              "    </tr>\n",
              "    <tr>\n",
              "      <th>9998</th>\n",
              "      <td>0.629630</td>\n",
              "      <td>0</td>\n",
              "      <td>0</td>\n",
              "      <td>0</td>\n",
              "      <td>1</td>\n",
              "      <td>0</td>\n",
              "      <td>0</td>\n",
              "      <td>0</td>\n",
              "      <td>0</td>\n",
              "      <td>0</td>\n",
              "      <td>...</td>\n",
              "      <td>0</td>\n",
              "      <td>1</td>\n",
              "      <td>0</td>\n",
              "      <td>0</td>\n",
              "      <td>0</td>\n",
              "      <td>0</td>\n",
              "      <td>0</td>\n",
              "      <td>0</td>\n",
              "      <td>1</td>\n",
              "      <td>0</td>\n",
              "    </tr>\n",
              "    <tr>\n",
              "      <th>9999</th>\n",
              "      <td>0.814815</td>\n",
              "      <td>0</td>\n",
              "      <td>0</td>\n",
              "      <td>0</td>\n",
              "      <td>0</td>\n",
              "      <td>0</td>\n",
              "      <td>1</td>\n",
              "      <td>0</td>\n",
              "      <td>0</td>\n",
              "      <td>1</td>\n",
              "      <td>...</td>\n",
              "      <td>0</td>\n",
              "      <td>0</td>\n",
              "      <td>0</td>\n",
              "      <td>0</td>\n",
              "      <td>0</td>\n",
              "      <td>0</td>\n",
              "      <td>0</td>\n",
              "      <td>0</td>\n",
              "      <td>0</td>\n",
              "      <td>1</td>\n",
              "    </tr>\n",
              "  </tbody>\n",
              "</table>\n",
              "<p>10000 rows × 34 columns</p>\n",
              "</div>"
            ],
            "text/plain": [
              "      Ano de Fundação  Negocio no exterior  Capitação de recursos  \\\n",
              "0            0.185185                    1                      1   \n",
              "1            0.777778                    0                      1   \n",
              "2            0.333333                    1                      0   \n",
              "3            0.851852                    0                      1   \n",
              "4            0.074074                    1                      1   \n",
              "...               ...                  ...                    ...   \n",
              "9995         0.814815                    0                      1   \n",
              "9996         1.000000                    1                      1   \n",
              "9997         0.000000                    1                      0   \n",
              "9998         0.629630                    0                      0   \n",
              "9999         0.814815                    0                      0   \n",
              "\n",
              "      Momento da Startup_Validação  Momento da Startup_Escala  \\\n",
              "0                                1                          0   \n",
              "1                                0                          1   \n",
              "2                                1                          0   \n",
              "3                                1                          0   \n",
              "4                                1                          0   \n",
              "...                            ...                        ...   \n",
              "9995                             0                          0   \n",
              "9996                             1                          0   \n",
              "9997                             1                          0   \n",
              "9998                             0                          1   \n",
              "9999                             0                          0   \n",
              "\n",
              "      Momento da Startup_Ideação  Momento da Startup_Operação  \\\n",
              "0                              0                            0   \n",
              "1                              0                            0   \n",
              "2                              0                            0   \n",
              "3                              0                            0   \n",
              "4                              0                            0   \n",
              "...                          ...                          ...   \n",
              "9995                           0                            0   \n",
              "9996                           0                            0   \n",
              "9997                           0                            0   \n",
              "9998                           0                            0   \n",
              "9999                           0                            1   \n",
              "\n",
              "      Momento da Startup_Tração  Tamanho da equipe_12 pessoas  \\\n",
              "0                             0                             1   \n",
              "1                             0                             0   \n",
              "2                             0                             0   \n",
              "3                             0                             0   \n",
              "4                             0                             0   \n",
              "...                         ...                           ...   \n",
              "9995                          1                             0   \n",
              "9996                          0                             0   \n",
              "9997                          0                             0   \n",
              "9998                          0                             0   \n",
              "9999                          0                             0   \n",
              "\n",
              "      Tamanho da equipe_1-3 pessoas  ...  Porte_Nacional  Porte_Multinacional  \\\n",
              "0                                 0  ...               0                    0   \n",
              "1                                 1  ...               1                    0   \n",
              "2                                 0  ...               1                    0   \n",
              "3                                 0  ...               0                    1   \n",
              "4                                 1  ...               0                    0   \n",
              "...                             ...  ...             ...                  ...   \n",
              "9995                              1  ...               0                    1   \n",
              "9996                              0  ...               1                    0   \n",
              "9997                              1  ...               1                    0   \n",
              "9998                              0  ...               0                    1   \n",
              "9999                              1  ...               0                    0   \n",
              "\n",
              "      Público_Empresas/Pessoa física  Público_fechado  Público_Fechado  \\\n",
              "0                                  1                0                0   \n",
              "1                                  0                1                0   \n",
              "2                                  0                0                1   \n",
              "3                                  0                1                0   \n",
              "4                                  0                0                1   \n",
              "...                              ...              ...              ...   \n",
              "9995                               0                0                0   \n",
              "9996                               0                0                1   \n",
              "9997                               0                1                0   \n",
              "9998                               0                0                0   \n",
              "9999                               0                0                0   \n",
              "\n",
              "      Público_Pessoa física  Público_Fechado   Público_Aberto  \\\n",
              "0                         0                 0               0   \n",
              "1                         0                 0               0   \n",
              "2                         0                 0               0   \n",
              "3                         0                 0               0   \n",
              "4                         0                 0               0   \n",
              "...                     ...               ...             ...   \n",
              "9995                      1                 0               0   \n",
              "9996                      0                 0               0   \n",
              "9997                      0                 0               0   \n",
              "9998                      0                 0               0   \n",
              "9999                      0                 0               0   \n",
              "\n",
              "      Público_Empresas  Público_aberto  \n",
              "0                    0               0  \n",
              "1                    0               0  \n",
              "2                    0               0  \n",
              "3                    0               0  \n",
              "4                    0               0  \n",
              "...                ...             ...  \n",
              "9995                 0               0  \n",
              "9996                 0               0  \n",
              "9997                 0               0  \n",
              "9998                 1               0  \n",
              "9999                 0               1  \n",
              "\n",
              "[10000 rows x 34 columns]"
            ]
          },
          "metadata": {
            "tags": []
          },
          "execution_count": 13
        }
      ]
    },
    {
      "cell_type": "markdown",
      "metadata": {
        "id": "TPEkii1eBtL0"
      },
      "source": [
        "## Construção do modelo: Não-supervicionado"
      ]
    },
    {
      "cell_type": "markdown",
      "metadata": {
        "id": "LLvqRhXJBtL0"
      },
      "source": [
        "## K-Means"
      ]
    },
    {
      "cell_type": "markdown",
      "metadata": {
        "id": "GUlLJwVHBtL1"
      },
      "source": [
        "### Encontrar o número ótimo de K-clusters (Elbow Method)"
      ]
    },
    {
      "cell_type": "code",
      "metadata": {
        "id": "ZIvIpXlTBtL1",
        "outputId": "866bf25f-e5ea-40f3-dad6-993a646d25ca"
      },
      "source": [
        "from yellowbrick.cluster import KElbowVisualizer\n",
        "\n",
        "# Instantiate the clustering model and visualizer\n",
        "model = KMeans()\n",
        "visualizer = KElbowVisualizer(model, k=(2,12))\n",
        "\n",
        "visualizer.fit(preprocessed)        # Fit the data to the visualizer\n",
        "visualizer.show()        # Finalize and render the figure"
      ],
      "execution_count": null,
      "outputs": [
        {
          "output_type": "display_data",
          "data": {
            "image/png": "[encoded data removed]",
            "text/plain": [
              "<Figure size 576x396 with 2 Axes>"
            ]
          },
          "metadata": {
            "tags": []
          }
        },
        {
          "output_type": "execute_result",
          "data": {
            "text/plain": [
              "<matplotlib.axes._subplots.AxesSubplot at 0x7f69d7ece850>"
            ]
          },
          "metadata": {
            "tags": []
          },
          "execution_count": 14
        }
      ]
    },
    {
      "cell_type": "code",
      "metadata": {
        "id": "qRJ4yHMIBtL5",
        "outputId": "ba0ba4a7-250e-4055-cf08-b4d8267a0af1"
      },
      "source": [
        "kmeans = KMeans(n_clusters=3, random_state=42)\n",
        "kmeans.fit(preprocessed)"
      ],
      "execution_count": null,
      "outputs": [
        {
          "output_type": "execute_result",
          "data": {
            "text/plain": [
              "KMeans(n_clusters=3, random_state=42)"
            ]
          },
          "metadata": {
            "tags": []
          },
          "execution_count": 15
        }
      ]
    },
    {
      "cell_type": "code",
      "metadata": {
        "id": "vI5LE-aJBtL8"
      },
      "source": [
        "preprocessed['Target_kmeans'] = kmeans.labels_"
      ],
      "execution_count": null,
      "outputs": []
    },
    {
      "cell_type": "markdown",
      "metadata": {
        "id": "QFknkSXsBtL_"
      },
      "source": [
        "#### Visualizando os clusters"
      ]
    },
    {
      "cell_type": "code",
      "metadata": {
        "id": "uGCtfbu_BtMA"
      },
      "source": [
        "pca = PCA(n_components=2)\n",
        "X_pca = pca.fit_transform(preprocessed)"
      ],
      "execution_count": null,
      "outputs": []
    },
    {
      "cell_type": "code",
      "metadata": {
        "id": "sHk7qu0vBtMD",
        "outputId": "eb876afd-edd1-42a9-8b1f-e0988f8d3e59"
      },
      "source": [
        "plt.figure(figsize=(15, 6))\n",
        "plt.scatter(X_pca[:, 0], X_pca[:, 1], c=kmeans.labels_)\n",
        "plt.scatter(kmeans.cluster_centers_[:, 0], kmeans.cluster_centers_[:, 1], s=200, color='black', label='Centroids')\n",
        "plt.title('Clusters')\n",
        "plt.legend()\n",
        "plt.show()"
      ],
      "execution_count": null,
      "outputs": [
        {
          "output_type": "display_data",
          "data": {
            "image/png": "[encoded data removed]",
            "text/plain": [
              "<Figure size 1080x432 with 1 Axes>"
            ]
          },
          "metadata": {
            "tags": []
          }
        }
      ]
    },
    {
      "cell_type": "markdown",
      "metadata": {
        "id": "Au-U5WajBtMG"
      },
      "source": [
        "## DBSCAN"
      ]
    },
    {
      "cell_type": "code",
      "metadata": {
        "id": "2iVMG1dzBtMG",
        "outputId": "d96eb6d1-41ff-4d5a-d3ea-d39c0dd69e2d"
      },
      "source": [
        "dbscan = DBSCAN(eps=.3, min_samples=2)\n",
        "dbscan.fit(preprocessed)"
      ],
      "execution_count": null,
      "outputs": [
        {
          "output_type": "execute_result",
          "data": {
            "text/plain": [
              "DBSCAN(eps=0.3, min_samples=2)"
            ]
          },
          "metadata": {
            "tags": []
          },
          "execution_count": 19
        }
      ]
    },
    {
      "cell_type": "code",
      "metadata": {
        "id": "41hQUxJ-BtMJ"
      },
      "source": [
        "preprocessed['Target_dbscan'] = dbscan.labels_"
      ],
      "execution_count": null,
      "outputs": []
    },
    {
      "cell_type": "code",
      "metadata": {
        "id": "OUq-l6_dBtMN"
      },
      "source": [
        "pca = PCA(n_components=2)\n",
        "X_pca_db = pca.fit_transform(preprocessed)"
      ],
      "execution_count": null,
      "outputs": []
    },
    {
      "cell_type": "code",
      "metadata": {
        "id": "WYcvjYs4BtMR",
        "outputId": "9bbcc098-697e-4641-adff-56392172c60e"
      },
      "source": [
        "plt.figure(figsize=(15, 6))\n",
        "plt.scatter(X_pca_db[:, 0], X_pca_db[:, 1], c=dbscan.labels_)\n",
        "plt.title('Clusters')\n",
        "plt.show()"
      ],
      "execution_count": null,
      "outputs": [
        {
          "output_type": "display_data",
          "data": {
            "image/png": "[encoded data removed]",
            "text/plain": [
              "<Figure size 1080x432 with 1 Axes>"
            ]
          },
          "metadata": {
            "tags": []
          }
        }
      ]
    },
    {
      "cell_type": "markdown",
      "metadata": {
        "id": "y-QUZh3bBtMT"
      },
      "source": [
        "### AgglomerativeClustering"
      ]
    },
    {
      "cell_type": "markdown",
      "metadata": {
        "id": "Y8PI9LhXBtMU"
      },
      "source": [
        "#### Dendograma"
      ]
    },
    {
      "cell_type": "code",
      "metadata": {
        "id": "Z9wiIOLzBtMU",
        "outputId": "c025c139-ca35-4342-f4da-91033dbdd85c"
      },
      "source": [
        "fig = plt.figure(figsize=(16, 8))\n",
        "dendrogram = sch.dendrogram(sch.linkage(preprocessed, method='ward'))\n",
        "plt.title('Dendrogram')\n",
        "plt.xlabel('Customers')\n",
        "plt.ylabel('Number of clusters')\n",
        "plt.show()"
      ],
      "execution_count": null,
      "outputs": [
        {
          "output_type": "display_data",
          "data": {
            "image/png": "[encoded data removed]",
            "text/plain": [
              "<Figure size 1152x576 with 1 Axes>"
            ]
          },
          "metadata": {
            "tags": []
          }
        }
      ]
    },
    {
      "cell_type": "code",
      "metadata": {
        "id": "tfoeaN_MBtMY",
        "outputId": "b52376af-b546-4f6d-e80b-7c0708044b33"
      },
      "source": [
        "agg = AgglomerativeClustering(n_clusters=3)\n",
        "agg.fit(preprocessed)"
      ],
      "execution_count": null,
      "outputs": [
        {
          "output_type": "execute_result",
          "data": {
            "text/plain": [
              "AgglomerativeClustering(n_clusters=3)"
            ]
          },
          "metadata": {
            "tags": []
          },
          "execution_count": 24
        }
      ]
    },
    {
      "cell_type": "code",
      "metadata": {
        "id": "M2JRJpECBtMb"
      },
      "source": [
        "preprocessed['Target_agg'] = agg.labels_"
      ],
      "execution_count": null,
      "outputs": []
    },
    {
      "cell_type": "code",
      "metadata": {
        "id": "Ivzzlr9iBtMe"
      },
      "source": [
        "pca = PCA(n_components=2)\n",
        "X_pca_agg = pca.fit_transform(preprocessed)"
      ],
      "execution_count": null,
      "outputs": []
    },
    {
      "cell_type": "code",
      "metadata": {
        "id": "BbEgKOFDBtMh",
        "outputId": "1db85de5-2345-4d48-bf20-e929459b389f"
      },
      "source": [
        "plt.figure(figsize=(15, 6))\n",
        "plt.scatter(X_pca_agg[:, 0], X_pca_agg[:, 1], c=agg.labels_)\n",
        "plt.title('Clusters')\n",
        "plt.show()"
      ],
      "execution_count": null,
      "outputs": [
        {
          "output_type": "display_data",
          "data": {
            "image/png": "[encoded data removed]",
            "text/plain": [
              "<Figure size 1080x432 with 1 Axes>"
            ]
          },
          "metadata": {
            "tags": []
          }
        }
      ]
    },
    {
      "cell_type": "code",
      "metadata": {
        "id": "kouRnSjzBtMk"
      },
      "source": [
        ""
      ],
      "execution_count": null,
      "outputs": []
    }
  ]
}